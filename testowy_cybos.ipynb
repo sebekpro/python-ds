{
  "nbformat": 4,
  "nbformat_minor": 0,
  "metadata": {
    "colab": {
      "provenance": [],
      "authorship_tag": "ABX9TyOV2dCfS3B0XRF32ysD7f0Z",
      "include_colab_link": true
    },
    "kernelspec": {
      "name": "python3",
      "display_name": "Python 3"
    },
    "language_info": {
      "name": "python"
    }
  },
  "cells": [
    {
      "cell_type": "markdown",
      "metadata": {
        "id": "view-in-github",
        "colab_type": "text"
      },
      "source": [
        "<a href=\"https://colab.research.google.com/github/sebekpro/python-ds/blob/main/testowy_cybos.ipynb\" target=\"_parent\"><img src=\"https://colab.research.google.com/assets/colab-badge.svg\" alt=\"Open In Colab\"/></a>"
      ]
    },
    {
      "cell_type": "code",
      "execution_count": 1,
      "metadata": {
        "colab": {
          "base_uri": "https://localhost:8080/"
        },
        "id": "9QVmhc9wbJqh",
        "outputId": "1fa9bfed-217a-4e91-b358-5bdf7ffb98c4"
      },
      "outputs": [
        {
          "output_type": "stream",
          "name": "stdout",
          "text": [
            "AI Colab\n"
          ]
        }
      ],
      "source": [
        "print('AI Colab')"
      ]
    },
    {
      "cell_type": "markdown",
      "source": [
        "Komórka tekstowa"
      ],
      "metadata": {
        "id": "PqzPqrambvlw"
      }
    },
    {
      "cell_type": "markdown",
      "source": [
        "# Nowa sekcja"
      ],
      "metadata": {
        "id": "buGiXGLRcUtj"
      }
    },
    {
      "cell_type": "markdown",
      "source": [],
      "metadata": {
        "id": "HiL6g-SgcVps"
      }
    },
    {
      "cell_type": "code",
      "source": [],
      "metadata": {
        "id": "kJtGWluGcWJN"
      },
      "execution_count": null,
      "outputs": []
    },
    {
      "cell_type": "code",
      "source": [],
      "metadata": {
        "id": "U7MCz8Tbbzgp"
      },
      "execution_count": null,
      "outputs": []
    }
  ]
}