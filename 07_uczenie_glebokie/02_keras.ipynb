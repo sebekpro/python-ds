{
  "nbformat": 4,
  "nbformat_minor": 0,
  "metadata": {
    "colab": {
      "name": "02_keras.ipynb",
      "provenance": [],
      "include_colab_link": true
    },
    "kernelspec": {
      "name": "python3",
      "display_name": "Python 3"
    }
  },
  "cells": [
    {
      "cell_type": "markdown",
      "metadata": {
        "id": "view-in-github",
        "colab_type": "text"
      },
      "source": [
        "<a href=\"https://colab.research.google.com/github/sebekpro/python-ds/blob/main/07_uczenie_glebokie/02_keras.ipynb\" target=\"_parent\"><img src=\"https://colab.research.google.com/assets/colab-badge.svg\" alt=\"Open In Colab\"/></a>"
      ]
    },
    {
      "cell_type": "markdown",
      "metadata": {
        "id": "XPMv3wSNK3BU"
      },
      "source": [
        "* @author: krakowiakpawel9@gmail.com  \n",
        "* @site: e-smartdata.org"
      ]
    },
    {
      "cell_type": "markdown",
      "metadata": {
        "id": "zjlb736M2lS_"
      },
      "source": [
        "### Tensorflow\n",
        ">Strona biblioteki: [https://www.tensorflow.org/](https://www.tensorflow.org/)  \n",
        ">Dokumentacja: [https://www.tensorflow.org/api_docs](https://www.tensorflow.org/api_docs)  \n",
        ">\n",
        ">Szybko rozwijająca się biblioteka do uczenia maszynowego i uczenia głębokiego rozwijana przez Google.\n",
        ">\n",
        ">Aby zainstalować bibliotekę tensorflow, użyj polecenia poniżej:\n",
        "```\n",
        "pip install tensorflow\n",
        "```\n",
        "\n",
        "### Keras\n",
        ">Strona biblioteki: [https://keras.io/](https://keras.io/)  \n",
        ">\n",
        ">Wysokopoziomowy interfejs do budowy sieci neuronowych. Działa zarówno na Tensorflow, Theano oraz CNTK.\n",
        ">\n",
        ">Aby zainstalować bibliotekę keras, użyj polecenia poniżej:\n",
        "```\n",
        "pip install keras\n",
        "```"
      ]
    },
    {
      "cell_type": "markdown",
      "metadata": {
        "id": "tC7wD4aySZKb"
      },
      "source": [
        "### Model sekwencjny (Sequential Model):\n",
        "1. [Wprowadzenie - pierwszy model](#a0)\n",
        "2. [Funkcje aktywacji](#a1)\n",
        "3. [Kompilacja modelu](#a2)\n",
        "4. [Trenowanie modelu](#a3)\n",
        "5. [Przykład - klasyfikacja binarna](#a4)\n",
        "6. [Przykład - klasyfikacja wieloklasowa](#a5)\n",
        "7. [Przykład - regresja](#a6)\n",
        "\n",
        "\n",
        "\n",
        "Załadowanie biblioteki tensorflow\n"
      ]
    },
    {
      "cell_type": "code",
      "metadata": {
        "id": "3SPURJyPQOpj",
        "outputId": "2faa0ea9-6db5-44a4-e83c-b56a9207eeaf",
        "colab": {
          "base_uri": "https://localhost:8080/",
          "height": 51
        }
      },
      "source": [
        "%tensorflow_version 2.x\n",
        "import tensorflow as tf\n",
        "import numpy as np\n",
        "import pandas as pd\n",
        "import plotly.express as px\n",
        "tf.__version__"
      ],
      "execution_count": null,
      "outputs": [
        {
          "output_type": "stream",
          "text": [
            "TensorFlow 2.x selected.\n"
          ],
          "name": "stdout"
        },
        {
          "output_type": "execute_result",
          "data": {
            "text/plain": [
              "'2.0.0'"
            ]
          },
          "metadata": {
            "tags": []
          },
          "execution_count": 1
        }
      ]
    },
    {
      "cell_type": "markdown",
      "metadata": {
        "id": "x0HF8UIRTBmC"
      },
      "source": [
        "### <a name='a0'></a>Wprowadzenie - pierwszy model\n",
        "Model sekwencyjny to nic innego jak liniowy stos warstw."
      ]
    },
    {
      "cell_type": "code",
      "metadata": {
        "id": "y5qY8AQsTeGX",
        "outputId": "9f211b61-b0a6-4c10-9032-da20fb1f788c",
        "colab": {
          "base_uri": "https://localhost:8080/",
          "height": 34
        }
      },
      "source": [
        "# utworzenie instancji klasy Sequential\n",
        "from tensorflow.keras.models import Sequential\n",
        "\n",
        "model = Sequential()\n",
        "print(model)"
      ],
      "execution_count": null,
      "outputs": [
        {
          "output_type": "stream",
          "text": [
            "<tensorflow.python.keras.engine.sequential.Sequential object at 0x7f5f73d67fd0>\n"
          ],
          "name": "stdout"
        }
      ]
    },
    {
      "cell_type": "markdown",
      "metadata": {
        "id": "yqtUKjKaTyxQ"
      },
      "source": [
        "Podstawowym elementem składowym modelu są warstwy. Aby dodać najbardziej standardową warstwę - warstwę gęsto połączoną należy użyć warstwy **Dense**. Aby dodać warstwę do modelu należy użyć metody *.add()*"
      ]
    },
    {
      "cell_type": "code",
      "metadata": {
        "id": "CiMQRZUMTv8f"
      },
      "source": [
        "from tensorflow.keras.layers import Dense\n",
        "\n",
        "model.add(Dense(units=4, input_shape=(10,)))"
      ],
      "execution_count": null,
      "outputs": []
    },
    {
      "cell_type": "markdown",
      "metadata": {
        "id": "s4q14zW-XOU4"
      },
      "source": [
        "Wyświetlenie podsumowania modelu: metoda *.summary()*"
      ]
    },
    {
      "cell_type": "code",
      "metadata": {
        "id": "HAReYZ98UXtC",
        "outputId": "9d0c11c0-b0d1-4479-88d1-def5f6e52b7b",
        "colab": {
          "base_uri": "https://localhost:8080/",
          "height": 188
        }
      },
      "source": [
        "model.summary()"
      ],
      "execution_count": null,
      "outputs": [
        {
          "output_type": "stream",
          "text": [
            "Model: \"sequential\"\n",
            "_________________________________________________________________\n",
            "Layer (type)                 Output Shape              Param #   \n",
            "=================================================================\n",
            "dense (Dense)                (None, 4)                 44        \n",
            "=================================================================\n",
            "Total params: 44\n",
            "Trainable params: 44\n",
            "Non-trainable params: 0\n",
            "_________________________________________________________________\n"
          ],
          "name": "stdout"
        }
      ]
    },
    {
      "cell_type": "markdown",
      "metadata": {
        "id": "izZi_Eu2Xjcl"
      },
      "source": [
        "Dodanie kolejnej warstwy"
      ]
    },
    {
      "cell_type": "code",
      "metadata": {
        "id": "HD17lS82Uk7Y",
        "outputId": "eade7d17-2725-4f22-8f7e-6abb0a5771ba",
        "colab": {
          "base_uri": "https://localhost:8080/",
          "height": 223
        }
      },
      "source": [
        "model.add(Dense(units=2))\n",
        "\n",
        "model.summary()"
      ],
      "execution_count": null,
      "outputs": [
        {
          "output_type": "stream",
          "text": [
            "Model: \"sequential\"\n",
            "_________________________________________________________________\n",
            "Layer (type)                 Output Shape              Param #   \n",
            "=================================================================\n",
            "dense (Dense)                (None, 4)                 44        \n",
            "_________________________________________________________________\n",
            "dense_1 (Dense)              (None, 2)                 10        \n",
            "=================================================================\n",
            "Total params: 54\n",
            "Trainable params: 54\n",
            "Non-trainable params: 0\n",
            "_________________________________________________________________\n"
          ],
          "name": "stdout"
        }
      ]
    },
    {
      "cell_type": "markdown",
      "metadata": {
        "id": "yh_gui1wZCH2"
      },
      "source": [
        "### <a name='a1'></a>Funkcje aktywacji\n",
        "Istotnym elemenem sieci neuronowych jest dobór odpowiednich funkcji aktywacji. Funkcje aktywacji jak sama nazwa wskazuje są odpowiedzialne za aktywowanie odpowiednich neuronów podczas procesu uczenia.\n",
        "\n",
        "Jeżeli nie określimy podczas dodawania warstwy funkcji aktywacji, domyślnie stosowana jest liniowa funkcja aktywacji, tzn. $a(x)=x$\n",
        "\n",
        "Warstwa z liniową funkcją aktywacji może uczyć się tylko liniowych przekształceń danych wejściowych. Dlatego stosuje się różne funkcje aktywacji aby rozwiazywać problemy nieliniowe.\n",
        "\n",
        "[Keras: Funkcje aktywacji](https://keras.io/activations/)"
      ]
    },
    {
      "cell_type": "code",
      "metadata": {
        "id": "obfM5ho7ZmMy",
        "outputId": "612a36a9-75f0-421a-985e-5e9c262a9603",
        "colab": {
          "base_uri": "https://localhost:8080/",
          "height": 203
        }
      },
      "source": [
        "from tensorflow.keras.activations import linear\n",
        "\n",
        "random_data = np.linspace(start=-3, stop=3, num=300)\n",
        "data = pd.DataFrame({'data': random_data, 'linear': linear(random_data)})\n",
        "data.head()"
      ],
      "execution_count": null,
      "outputs": [
        {
          "output_type": "execute_result",
          "data": {
            "text/html": [
              "<div>\n",
              "<style scoped>\n",
              "    .dataframe tbody tr th:only-of-type {\n",
              "        vertical-align: middle;\n",
              "    }\n",
              "\n",
              "    .dataframe tbody tr th {\n",
              "        vertical-align: top;\n",
              "    }\n",
              "\n",
              "    .dataframe thead th {\n",
              "        text-align: right;\n",
              "    }\n",
              "</style>\n",
              "<table border=\"1\" class=\"dataframe\">\n",
              "  <thead>\n",
              "    <tr style=\"text-align: right;\">\n",
              "      <th></th>\n",
              "      <th>data</th>\n",
              "      <th>linear</th>\n",
              "    </tr>\n",
              "  </thead>\n",
              "  <tbody>\n",
              "    <tr>\n",
              "      <th>0</th>\n",
              "      <td>-3.000000</td>\n",
              "      <td>-3.000000</td>\n",
              "    </tr>\n",
              "    <tr>\n",
              "      <th>1</th>\n",
              "      <td>-2.979933</td>\n",
              "      <td>-2.979933</td>\n",
              "    </tr>\n",
              "    <tr>\n",
              "      <th>2</th>\n",
              "      <td>-2.959866</td>\n",
              "      <td>-2.959866</td>\n",
              "    </tr>\n",
              "    <tr>\n",
              "      <th>3</th>\n",
              "      <td>-2.939799</td>\n",
              "      <td>-2.939799</td>\n",
              "    </tr>\n",
              "    <tr>\n",
              "      <th>4</th>\n",
              "      <td>-2.919732</td>\n",
              "      <td>-2.919732</td>\n",
              "    </tr>\n",
              "  </tbody>\n",
              "</table>\n",
              "</div>"
            ],
            "text/plain": [
              "       data    linear\n",
              "0 -3.000000 -3.000000\n",
              "1 -2.979933 -2.979933\n",
              "2 -2.959866 -2.959866\n",
              "3 -2.939799 -2.939799\n",
              "4 -2.919732 -2.919732"
            ]
          },
          "metadata": {
            "tags": []
          },
          "execution_count": 6
        }
      ]
    },
    {
      "cell_type": "code",
      "metadata": {
        "id": "SsbhlfGgesjV",
        "outputId": "a9283134-b5a4-464a-bd8d-d0dc7e6a28e1",
        "colab": {
          "base_uri": "https://localhost:8080/",
          "height": 417
        }
      },
      "source": [
        "px.line(data, x='data', y='linear', width=500, height=400, range_y=[-3, 3])"
      ],
      "execution_count": null,
      "outputs": [
        {
          "output_type": "display_data",
          "data": {
            "text/html": [
              "<html>\n",
              "<head><meta charset=\"utf-8\" /></head>\n",
              "<body>\n",
              "    <div>\n",
              "            <script src=\"https://cdnjs.cloudflare.com/ajax/libs/mathjax/2.7.5/MathJax.js?config=TeX-AMS-MML_SVG\"></script><script type=\"text/javascript\">if (window.MathJax) {MathJax.Hub.Config({SVG: {font: \"STIX-Web\"}});}</script>\n",
              "                <script type=\"text/javascript\">window.PlotlyConfig = {MathJaxConfig: 'local'};</script>\n",
              "        <script src=\"https://cdn.plot.ly/plotly-latest.min.js\"></script>    \n",
              "            <div id=\"aeca293f-dfe4-48c6-94d7-813289cc7d17\" class=\"plotly-graph-div\" style=\"height:400px; width:500px;\"></div>\n",
              "            <script type=\"text/javascript\">\n",
              "                \n",
              "                    window.PLOTLYENV=window.PLOTLYENV || {};\n",
              "                    \n",
              "                if (document.getElementById(\"aeca293f-dfe4-48c6-94d7-813289cc7d17\")) {\n",
              "                    Plotly.newPlot(\n",
              "                        'aeca293f-dfe4-48c6-94d7-813289cc7d17',\n",
              "                        [{\"hoverlabel\": {\"namelength\": 0}, \"hovertemplate\": \"data=%{x}<br>linear=%{y}\", \"legendgroup\": \"\", \"line\": {\"color\": \"#636efa\", \"dash\": \"solid\"}, \"mode\": \"lines\", \"name\": \"\", \"showlegend\": false, \"type\": \"scatter\", \"x\": [-3.0, -2.979933110367893, -2.959866220735786, -2.939799331103679, -2.919732441471572, -2.899665551839465, -2.879598662207358, -2.859531772575251, -2.839464882943144, -2.819397993311037, -2.79933110367893, -2.779264214046823, -2.759197324414716, -2.739130434782609, -2.719063545150502, -2.6989966555183944, -2.678929765886288, -2.6588628762541804, -2.638795986622074, -2.6187290969899664, -2.5986622073578594, -2.5785953177257523, -2.5585284280936453, -2.5384615384615383, -2.5183946488294313, -2.4983277591973243, -2.4782608695652173, -2.4581939799331103, -2.4381270903010033, -2.4180602006688963, -2.3979933110367893, -2.3779264214046822, -2.3578595317725752, -2.3377926421404682, -2.317725752508361, -2.297658862876254, -2.277591973244147, -2.25752508361204, -2.237458193979933, -2.217391304347826, -2.197324414715719, -2.177257525083612, -2.157190635451505, -2.137123745819398, -2.1170568561872907, -2.096989966555184, -2.0769230769230766, -2.05685618729097, -2.0367892976588626, -2.016722408026756, -1.9966555183946488, -1.9765886287625418, -1.9565217391304348, -1.9364548494983278, -1.9163879598662208, -1.8963210702341138, -1.8762541806020065, -1.8561872909698995, -1.8361204013377925, -1.8160535117056855, -1.7959866220735785, -1.7759197324414715, -1.7558528428093645, -1.7357859531772575, -1.7157190635451505, -1.6956521739130435, -1.6755852842809364, -1.6555183946488294, -1.6354515050167224, -1.6153846153846154, -1.5953177257525084, -1.5752508361204014, -1.5551839464882944, -1.5351170568561872, -1.5150501672240801, -1.4949832775919731, -1.4749163879598661, -1.4548494983277591, -1.434782608695652, -1.414715719063545, -1.394648829431438, -1.374581939799331, -1.354515050167224, -1.334448160535117, -1.31438127090301, -1.294314381270903, -1.274247491638796, -1.254180602006689, -1.2341137123745818, -1.2140468227424748, -1.1939799331103678, -1.1739130434782608, -1.1538461538461537, -1.1337792642140467, -1.1137123745819397, -1.0936454849498327, -1.0735785953177257, -1.0535117056856187, -1.0334448160535117, -1.0133779264214047, -0.9933110367892977, -0.9732441471571907, -0.9531772575250836, -0.9331103678929766, -0.9130434782608696, -0.8929765886287626, -0.8729096989966556, -0.8528428093645486, -0.8327759197324416, -0.8127090301003346, -0.7926421404682276, -0.7725752508361206, -0.7525083612040131, -0.7324414715719061, -0.7123745819397991, -0.6923076923076921, -0.6722408026755851, -0.652173913043478, -0.632107023411371, -0.612040133779264, -0.591973244147157, -0.57190635451505, -0.551839464882943, -0.531772575250836, -0.511705685618729, -0.49163879598662197, -0.47157190635451496, -0.45150501672240795, -0.43143812709030094, -0.41137123745819393, -0.3913043478260869, -0.3712374581939799, -0.3511705685618729, -0.3311036789297659, -0.3110367892976589, -0.29096989966555187, -0.27090301003344486, -0.25083612040133785, -0.23076923076923084, -0.21070234113712383, -0.19063545150501682, -0.1705685618729098, -0.1505016722408028, -0.1304347826086958, -0.11036789297658878, -0.09030100334448132, -0.07023411371237431, -0.0501672240802673, -0.030100334448160293, -0.010033444816053283, 0.010033444816053727, 0.030100334448160737, 0.05016722408026775, 0.07023411371237476, 0.09030100334448177, 0.11036789297658878, 0.1304347826086958, 0.1505016722408028, 0.1705685618729098, 0.19063545150501682, 0.21070234113712383, 0.23076923076923084, 0.25083612040133785, 0.27090301003344486, 0.29096989966555187, 0.3110367892976589, 0.3311036789297659, 0.3511705685618729, 0.3712374581939799, 0.3913043478260869, 0.41137123745819393, 0.43143812709030094, 0.45150501672240795, 0.47157190635451496, 0.49163879598662197, 0.511705685618729, 0.5317725752508364, 0.5518394648829434, 0.5719063545150505, 0.5919732441471575, 0.6120401337792645, 0.6321070234113715, 0.6521739130434785, 0.6722408026755855, 0.6923076923076925, 0.7123745819397995, 0.7324414715719065, 0.7525083612040135, 0.7725752508361206, 0.7926421404682276, 0.8127090301003346, 0.8327759197324416, 0.8528428093645486, 0.8729096989966556, 0.8929765886287626, 0.9130434782608696, 0.9331103678929766, 0.9531772575250836, 0.9732441471571907, 0.9933110367892977, 1.0133779264214047, 1.0334448160535121, 1.0535117056856187, 1.0735785953177261, 1.0936454849498327, 1.1137123745819402, 1.1337792642140467, 1.1538461538461542, 1.1739130434782608, 1.1939799331103682, 1.2140468227424748, 1.2341137123745822, 1.2541806020066888, 1.2742474916387962, 1.2943143812709028, 1.3143812709030103, 1.3344481605351168, 1.3545150501672243, 1.3745819397993309, 1.3946488294314383, 1.4147157190635449, 1.4347826086956523, 1.454849498327759, 1.4749163879598663, 1.4949832775919738, 1.5150501672240804, 1.5351170568561878, 1.5551839464882944, 1.5752508361204018, 1.5953177257525084, 1.6153846153846159, 1.6354515050167224, 1.6555183946488299, 1.6755852842809364, 1.695652173913044, 1.7157190635451505, 1.735785953177258, 1.7558528428093645, 1.775919732441472, 1.7959866220735785, 1.816053511705686, 1.8361204013377925, 1.8561872909699, 1.8762541806020065, 1.896321070234114, 1.9163879598662206, 1.936454849498328, 1.9565217391304346, 1.976588628762542, 1.9966555183946486, 2.016722408026756, 2.0367892976588626, 2.05685618729097, 2.0769230769230766, 2.096989966555184, 2.1170568561872907, 2.137123745819398, 2.1571906354515056, 2.177257525083612, 2.1973244147157196, 2.217391304347826, 2.2374581939799336, 2.25752508361204, 2.2775919732441476, 2.297658862876254, 2.3177257525083617, 2.3377926421404682, 2.3578595317725757, 2.3779264214046822, 2.3979933110367897, 2.4180602006688963, 2.4381270903010037, 2.4581939799331103, 2.4782608695652177, 2.4983277591973243, 2.5183946488294318, 2.5384615384615383, 2.558528428093646, 2.5785953177257523, 2.59866220735786, 2.6187290969899664, 2.638795986622074, 2.6588628762541804, 2.678929765886288, 2.6989966555183944, 2.719063545150502, 2.7391304347826084, 2.759197324414716, 2.7792642140468224, 2.79933110367893, 2.8193979933110374, 2.839464882943144, 2.8595317725752514, 2.879598662207358, 2.8996655518394654, 2.919732441471572, 2.9397993311036794, 2.959866220735786, 2.9799331103678934, 3.0], \"xaxis\": \"x\", \"y\": [-3.0, -2.979933110367893, -2.959866220735786, -2.939799331103679, -2.919732441471572, -2.899665551839465, -2.879598662207358, -2.859531772575251, -2.839464882943144, -2.819397993311037, -2.79933110367893, -2.779264214046823, -2.759197324414716, -2.739130434782609, -2.719063545150502, -2.6989966555183944, -2.678929765886288, -2.6588628762541804, -2.638795986622074, -2.6187290969899664, -2.5986622073578594, -2.5785953177257523, -2.5585284280936453, -2.5384615384615383, -2.5183946488294313, -2.4983277591973243, -2.4782608695652173, -2.4581939799331103, -2.4381270903010033, -2.4180602006688963, -2.3979933110367893, -2.3779264214046822, -2.3578595317725752, -2.3377926421404682, -2.317725752508361, -2.297658862876254, -2.277591973244147, -2.25752508361204, -2.237458193979933, -2.217391304347826, -2.197324414715719, -2.177257525083612, -2.157190635451505, -2.137123745819398, -2.1170568561872907, -2.096989966555184, -2.0769230769230766, -2.05685618729097, -2.0367892976588626, -2.016722408026756, -1.9966555183946488, -1.9765886287625418, -1.9565217391304348, -1.9364548494983278, -1.9163879598662208, -1.8963210702341138, -1.8762541806020065, -1.8561872909698995, -1.8361204013377925, -1.8160535117056855, -1.7959866220735785, -1.7759197324414715, -1.7558528428093645, -1.7357859531772575, -1.7157190635451505, -1.6956521739130435, -1.6755852842809364, -1.6555183946488294, -1.6354515050167224, -1.6153846153846154, -1.5953177257525084, -1.5752508361204014, -1.5551839464882944, -1.5351170568561872, -1.5150501672240801, -1.4949832775919731, -1.4749163879598661, -1.4548494983277591, -1.434782608695652, -1.414715719063545, -1.394648829431438, -1.374581939799331, -1.354515050167224, -1.334448160535117, -1.31438127090301, -1.294314381270903, -1.274247491638796, -1.254180602006689, -1.2341137123745818, -1.2140468227424748, -1.1939799331103678, -1.1739130434782608, -1.1538461538461537, -1.1337792642140467, -1.1137123745819397, -1.0936454849498327, -1.0735785953177257, -1.0535117056856187, -1.0334448160535117, -1.0133779264214047, -0.9933110367892977, -0.9732441471571907, -0.9531772575250836, -0.9331103678929766, -0.9130434782608696, -0.8929765886287626, -0.8729096989966556, -0.8528428093645486, -0.8327759197324416, -0.8127090301003346, -0.7926421404682276, -0.7725752508361206, -0.7525083612040131, -0.7324414715719061, -0.7123745819397991, -0.6923076923076921, -0.6722408026755851, -0.652173913043478, -0.632107023411371, -0.612040133779264, -0.591973244147157, -0.57190635451505, -0.551839464882943, -0.531772575250836, -0.511705685618729, -0.49163879598662197, -0.47157190635451496, -0.45150501672240795, -0.43143812709030094, -0.41137123745819393, -0.3913043478260869, -0.3712374581939799, -0.3511705685618729, -0.3311036789297659, -0.3110367892976589, -0.29096989966555187, -0.27090301003344486, -0.25083612040133785, -0.23076923076923084, -0.21070234113712383, -0.19063545150501682, -0.1705685618729098, -0.1505016722408028, -0.1304347826086958, -0.11036789297658878, -0.09030100334448132, -0.07023411371237431, -0.0501672240802673, -0.030100334448160293, -0.010033444816053283, 0.010033444816053727, 0.030100334448160737, 0.05016722408026775, 0.07023411371237476, 0.09030100334448177, 0.11036789297658878, 0.1304347826086958, 0.1505016722408028, 0.1705685618729098, 0.19063545150501682, 0.21070234113712383, 0.23076923076923084, 0.25083612040133785, 0.27090301003344486, 0.29096989966555187, 0.3110367892976589, 0.3311036789297659, 0.3511705685618729, 0.3712374581939799, 0.3913043478260869, 0.41137123745819393, 0.43143812709030094, 0.45150501672240795, 0.47157190635451496, 0.49163879598662197, 0.511705685618729, 0.5317725752508364, 0.5518394648829434, 0.5719063545150505, 0.5919732441471575, 0.6120401337792645, 0.6321070234113715, 0.6521739130434785, 0.6722408026755855, 0.6923076923076925, 0.7123745819397995, 0.7324414715719065, 0.7525083612040135, 0.7725752508361206, 0.7926421404682276, 0.8127090301003346, 0.8327759197324416, 0.8528428093645486, 0.8729096989966556, 0.8929765886287626, 0.9130434782608696, 0.9331103678929766, 0.9531772575250836, 0.9732441471571907, 0.9933110367892977, 1.0133779264214047, 1.0334448160535121, 1.0535117056856187, 1.0735785953177261, 1.0936454849498327, 1.1137123745819402, 1.1337792642140467, 1.1538461538461542, 1.1739130434782608, 1.1939799331103682, 1.2140468227424748, 1.2341137123745822, 1.2541806020066888, 1.2742474916387962, 1.2943143812709028, 1.3143812709030103, 1.3344481605351168, 1.3545150501672243, 1.3745819397993309, 1.3946488294314383, 1.4147157190635449, 1.4347826086956523, 1.454849498327759, 1.4749163879598663, 1.4949832775919738, 1.5150501672240804, 1.5351170568561878, 1.5551839464882944, 1.5752508361204018, 1.5953177257525084, 1.6153846153846159, 1.6354515050167224, 1.6555183946488299, 1.6755852842809364, 1.695652173913044, 1.7157190635451505, 1.735785953177258, 1.7558528428093645, 1.775919732441472, 1.7959866220735785, 1.816053511705686, 1.8361204013377925, 1.8561872909699, 1.8762541806020065, 1.896321070234114, 1.9163879598662206, 1.936454849498328, 1.9565217391304346, 1.976588628762542, 1.9966555183946486, 2.016722408026756, 2.0367892976588626, 2.05685618729097, 2.0769230769230766, 2.096989966555184, 2.1170568561872907, 2.137123745819398, 2.1571906354515056, 2.177257525083612, 2.1973244147157196, 2.217391304347826, 2.2374581939799336, 2.25752508361204, 2.2775919732441476, 2.297658862876254, 2.3177257525083617, 2.3377926421404682, 2.3578595317725757, 2.3779264214046822, 2.3979933110367897, 2.4180602006688963, 2.4381270903010037, 2.4581939799331103, 2.4782608695652177, 2.4983277591973243, 2.5183946488294318, 2.5384615384615383, 2.558528428093646, 2.5785953177257523, 2.59866220735786, 2.6187290969899664, 2.638795986622074, 2.6588628762541804, 2.678929765886288, 2.6989966555183944, 2.719063545150502, 2.7391304347826084, 2.759197324414716, 2.7792642140468224, 2.79933110367893, 2.8193979933110374, 2.839464882943144, 2.8595317725752514, 2.879598662207358, 2.8996655518394654, 2.919732441471572, 2.9397993311036794, 2.959866220735786, 2.9799331103678934, 3.0], \"yaxis\": \"y\"}],\n",
              "                        {\"height\": 400, \"legend\": {\"tracegroupgap\": 0}, \"margin\": {\"t\": 60}, \"template\": {\"data\": {\"bar\": [{\"error_x\": {\"color\": \"#2a3f5f\"}, \"error_y\": {\"color\": \"#2a3f5f\"}, \"marker\": {\"line\": {\"color\": \"#E5ECF6\", \"width\": 0.5}}, \"type\": \"bar\"}], \"barpolar\": [{\"marker\": {\"line\": {\"color\": \"#E5ECF6\", \"width\": 0.5}}, \"type\": \"barpolar\"}], \"carpet\": [{\"aaxis\": {\"endlinecolor\": \"#2a3f5f\", \"gridcolor\": \"white\", \"linecolor\": \"white\", \"minorgridcolor\": \"white\", \"startlinecolor\": \"#2a3f5f\"}, \"baxis\": {\"endlinecolor\": \"#2a3f5f\", \"gridcolor\": \"white\", \"linecolor\": \"white\", \"minorgridcolor\": \"white\", \"startlinecolor\": \"#2a3f5f\"}, \"type\": \"carpet\"}], \"choropleth\": [{\"colorbar\": {\"outlinewidth\": 0, \"ticks\": \"\"}, \"type\": \"choropleth\"}], \"contour\": [{\"colorbar\": {\"outlinewidth\": 0, \"ticks\": \"\"}, \"colorscale\": [[0.0, \"#0d0887\"], [0.1111111111111111, \"#46039f\"], [0.2222222222222222, \"#7201a8\"], [0.3333333333333333, \"#9c179e\"], [0.4444444444444444, \"#bd3786\"], [0.5555555555555556, \"#d8576b\"], [0.6666666666666666, \"#ed7953\"], [0.7777777777777778, \"#fb9f3a\"], [0.8888888888888888, \"#fdca26\"], [1.0, \"#f0f921\"]], \"type\": \"contour\"}], \"contourcarpet\": [{\"colorbar\": {\"outlinewidth\": 0, \"ticks\": \"\"}, \"type\": \"contourcarpet\"}], \"heatmap\": [{\"colorbar\": {\"outlinewidth\": 0, \"ticks\": \"\"}, \"colorscale\": [[0.0, \"#0d0887\"], [0.1111111111111111, \"#46039f\"], [0.2222222222222222, \"#7201a8\"], [0.3333333333333333, \"#9c179e\"], [0.4444444444444444, \"#bd3786\"], [0.5555555555555556, \"#d8576b\"], [0.6666666666666666, \"#ed7953\"], [0.7777777777777778, \"#fb9f3a\"], [0.8888888888888888, \"#fdca26\"], [1.0, \"#f0f921\"]], \"type\": \"heatmap\"}], \"heatmapgl\": [{\"colorbar\": {\"outlinewidth\": 0, \"ticks\": \"\"}, \"colorscale\": [[0.0, \"#0d0887\"], [0.1111111111111111, \"#46039f\"], [0.2222222222222222, \"#7201a8\"], [0.3333333333333333, \"#9c179e\"], [0.4444444444444444, \"#bd3786\"], [0.5555555555555556, \"#d8576b\"], [0.6666666666666666, \"#ed7953\"], [0.7777777777777778, \"#fb9f3a\"], [0.8888888888888888, \"#fdca26\"], [1.0, \"#f0f921\"]], \"type\": \"heatmapgl\"}], \"histogram\": [{\"marker\": {\"colorbar\": {\"outlinewidth\": 0, \"ticks\": \"\"}}, \"type\": \"histogram\"}], \"histogram2d\": [{\"colorbar\": {\"outlinewidth\": 0, \"ticks\": \"\"}, \"colorscale\": [[0.0, \"#0d0887\"], [0.1111111111111111, \"#46039f\"], [0.2222222222222222, \"#7201a8\"], [0.3333333333333333, \"#9c179e\"], [0.4444444444444444, \"#bd3786\"], [0.5555555555555556, \"#d8576b\"], [0.6666666666666666, \"#ed7953\"], [0.7777777777777778, \"#fb9f3a\"], [0.8888888888888888, \"#fdca26\"], [1.0, \"#f0f921\"]], \"type\": \"histogram2d\"}], \"histogram2dcontour\": [{\"colorbar\": {\"outlinewidth\": 0, \"ticks\": \"\"}, \"colorscale\": [[0.0, \"#0d0887\"], [0.1111111111111111, \"#46039f\"], [0.2222222222222222, \"#7201a8\"], [0.3333333333333333, \"#9c179e\"], [0.4444444444444444, \"#bd3786\"], [0.5555555555555556, \"#d8576b\"], [0.6666666666666666, \"#ed7953\"], [0.7777777777777778, \"#fb9f3a\"], [0.8888888888888888, \"#fdca26\"], [1.0, \"#f0f921\"]], \"type\": \"histogram2dcontour\"}], \"mesh3d\": [{\"colorbar\": {\"outlinewidth\": 0, \"ticks\": \"\"}, \"type\": \"mesh3d\"}], \"parcoords\": [{\"line\": {\"colorbar\": {\"outlinewidth\": 0, \"ticks\": \"\"}}, \"type\": \"parcoords\"}], \"scatter\": [{\"marker\": {\"colorbar\": {\"outlinewidth\": 0, \"ticks\": \"\"}}, \"type\": \"scatter\"}], \"scatter3d\": [{\"line\": {\"colorbar\": {\"outlinewidth\": 0, \"ticks\": \"\"}}, \"marker\": {\"colorbar\": {\"outlinewidth\": 0, \"ticks\": \"\"}}, \"type\": \"scatter3d\"}], \"scattercarpet\": [{\"marker\": {\"colorbar\": {\"outlinewidth\": 0, \"ticks\": \"\"}}, \"type\": \"scattercarpet\"}], \"scattergeo\": [{\"marker\": {\"colorbar\": {\"outlinewidth\": 0, \"ticks\": \"\"}}, \"type\": \"scattergeo\"}], \"scattergl\": [{\"marker\": {\"colorbar\": {\"outlinewidth\": 0, \"ticks\": \"\"}}, \"type\": \"scattergl\"}], \"scattermapbox\": [{\"marker\": {\"colorbar\": {\"outlinewidth\": 0, \"ticks\": \"\"}}, \"type\": \"scattermapbox\"}], \"scatterpolar\": [{\"marker\": {\"colorbar\": {\"outlinewidth\": 0, \"ticks\": \"\"}}, \"type\": \"scatterpolar\"}], \"scatterpolargl\": [{\"marker\": {\"colorbar\": {\"outlinewidth\": 0, \"ticks\": \"\"}}, \"type\": \"scatterpolargl\"}], \"scatterternary\": [{\"marker\": {\"colorbar\": {\"outlinewidth\": 0, \"ticks\": \"\"}}, \"type\": \"scatterternary\"}], \"surface\": [{\"colorbar\": {\"outlinewidth\": 0, \"ticks\": \"\"}, \"colorscale\": [[0.0, \"#0d0887\"], [0.1111111111111111, \"#46039f\"], [0.2222222222222222, \"#7201a8\"], [0.3333333333333333, \"#9c179e\"], [0.4444444444444444, \"#bd3786\"], [0.5555555555555556, \"#d8576b\"], [0.6666666666666666, \"#ed7953\"], [0.7777777777777778, \"#fb9f3a\"], [0.8888888888888888, \"#fdca26\"], [1.0, \"#f0f921\"]], \"type\": \"surface\"}], \"table\": [{\"cells\": {\"fill\": {\"color\": \"#EBF0F8\"}, \"line\": {\"color\": \"white\"}}, \"header\": {\"fill\": {\"color\": \"#C8D4E3\"}, \"line\": {\"color\": \"white\"}}, \"type\": \"table\"}]}, \"layout\": {\"annotationdefaults\": {\"arrowcolor\": \"#2a3f5f\", \"arrowhead\": 0, \"arrowwidth\": 1}, \"colorscale\": {\"diverging\": [[0, \"#8e0152\"], [0.1, \"#c51b7d\"], [0.2, \"#de77ae\"], [0.3, \"#f1b6da\"], [0.4, \"#fde0ef\"], [0.5, \"#f7f7f7\"], [0.6, \"#e6f5d0\"], [0.7, \"#b8e186\"], [0.8, \"#7fbc41\"], [0.9, \"#4d9221\"], [1, \"#276419\"]], \"sequential\": [[0.0, \"#0d0887\"], [0.1111111111111111, \"#46039f\"], [0.2222222222222222, \"#7201a8\"], [0.3333333333333333, \"#9c179e\"], [0.4444444444444444, \"#bd3786\"], [0.5555555555555556, \"#d8576b\"], [0.6666666666666666, \"#ed7953\"], [0.7777777777777778, \"#fb9f3a\"], [0.8888888888888888, \"#fdca26\"], [1.0, \"#f0f921\"]], \"sequentialminus\": [[0.0, \"#0d0887\"], [0.1111111111111111, \"#46039f\"], [0.2222222222222222, \"#7201a8\"], [0.3333333333333333, \"#9c179e\"], [0.4444444444444444, \"#bd3786\"], [0.5555555555555556, \"#d8576b\"], [0.6666666666666666, \"#ed7953\"], [0.7777777777777778, \"#fb9f3a\"], [0.8888888888888888, \"#fdca26\"], [1.0, \"#f0f921\"]]}, \"colorway\": [\"#636efa\", \"#EF553B\", \"#00cc96\", \"#ab63fa\", \"#FFA15A\", \"#19d3f3\", \"#FF6692\", \"#B6E880\", \"#FF97FF\", \"#FECB52\"], \"font\": {\"color\": \"#2a3f5f\"}, \"geo\": {\"bgcolor\": \"white\", \"lakecolor\": \"white\", \"landcolor\": \"#E5ECF6\", \"showlakes\": true, \"showland\": true, \"subunitcolor\": \"white\"}, \"hoverlabel\": {\"align\": \"left\"}, \"hovermode\": \"closest\", \"mapbox\": {\"style\": \"light\"}, \"paper_bgcolor\": \"white\", \"plot_bgcolor\": \"#E5ECF6\", \"polar\": {\"angularaxis\": {\"gridcolor\": \"white\", \"linecolor\": \"white\", \"ticks\": \"\"}, \"bgcolor\": \"#E5ECF6\", \"radialaxis\": {\"gridcolor\": \"white\", \"linecolor\": \"white\", \"ticks\": \"\"}}, \"scene\": {\"xaxis\": {\"backgroundcolor\": \"#E5ECF6\", \"gridcolor\": \"white\", \"gridwidth\": 2, \"linecolor\": \"white\", \"showbackground\": true, \"ticks\": \"\", \"zerolinecolor\": \"white\"}, \"yaxis\": {\"backgroundcolor\": \"#E5ECF6\", \"gridcolor\": \"white\", \"gridwidth\": 2, \"linecolor\": \"white\", \"showbackground\": true, \"ticks\": \"\", \"zerolinecolor\": \"white\"}, \"zaxis\": {\"backgroundcolor\": \"#E5ECF6\", \"gridcolor\": \"white\", \"gridwidth\": 2, \"linecolor\": \"white\", \"showbackground\": true, \"ticks\": \"\", \"zerolinecolor\": \"white\"}}, \"shapedefaults\": {\"line\": {\"color\": \"#2a3f5f\"}}, \"ternary\": {\"aaxis\": {\"gridcolor\": \"white\", \"linecolor\": \"white\", \"ticks\": \"\"}, \"baxis\": {\"gridcolor\": \"white\", \"linecolor\": \"white\", \"ticks\": \"\"}, \"bgcolor\": \"#E5ECF6\", \"caxis\": {\"gridcolor\": \"white\", \"linecolor\": \"white\", \"ticks\": \"\"}}, \"title\": {\"x\": 0.05}, \"xaxis\": {\"automargin\": true, \"gridcolor\": \"white\", \"linecolor\": \"white\", \"ticks\": \"\", \"zerolinecolor\": \"white\", \"zerolinewidth\": 2}, \"yaxis\": {\"automargin\": true, \"gridcolor\": \"white\", \"linecolor\": \"white\", \"ticks\": \"\", \"zerolinecolor\": \"white\", \"zerolinewidth\": 2}}}, \"width\": 500, \"xaxis\": {\"anchor\": \"y\", \"domain\": [0.0, 0.98], \"title\": {\"text\": \"data\"}}, \"yaxis\": {\"anchor\": \"x\", \"domain\": [0.0, 1.0], \"range\": [-3, 3], \"title\": {\"text\": \"linear\"}}},\n",
              "                        {\"responsive\": true}\n",
              "                    ).then(function(){\n",
              "                            \n",
              "var gd = document.getElementById('aeca293f-dfe4-48c6-94d7-813289cc7d17');\n",
              "var x = new MutationObserver(function (mutations, observer) {{\n",
              "        var display = window.getComputedStyle(gd).display;\n",
              "        if (!display || display === 'none') {{\n",
              "            console.log([gd, 'removed!']);\n",
              "            Plotly.purge(gd);\n",
              "            observer.disconnect();\n",
              "        }}\n",
              "}});\n",
              "\n",
              "// Listen for the removal of the full notebook cells\n",
              "var notebookContainer = gd.closest('#notebook-container');\n",
              "if (notebookContainer) {{\n",
              "    x.observe(notebookContainer, {childList: true});\n",
              "}}\n",
              "\n",
              "// Listen for the clearing of the current output cell\n",
              "var outputEl = gd.closest('.output');\n",
              "if (outputEl) {{\n",
              "    x.observe(outputEl, {childList: true});\n",
              "}}\n",
              "\n",
              "                        })\n",
              "                };\n",
              "                \n",
              "            </script>\n",
              "        </div>\n",
              "</body>\n",
              "</html>"
            ]
          },
          "metadata": {
            "tags": []
          }
        }
      ]
    },
    {
      "cell_type": "code",
      "metadata": {
        "id": "xGsRlPQde7Qc",
        "outputId": "52ae168a-d72f-4f01-fe6b-601c85a5e1bd",
        "colab": {
          "base_uri": "https://localhost:8080/",
          "height": 203
        }
      },
      "source": [
        "from tensorflow.keras.activations import sigmoid\n",
        "\n",
        "data = pd.DataFrame({'data': random_data, 'sigmoid': sigmoid(random_data)})\n",
        "data.head()"
      ],
      "execution_count": null,
      "outputs": [
        {
          "output_type": "execute_result",
          "data": {
            "text/html": [
              "<div>\n",
              "<style scoped>\n",
              "    .dataframe tbody tr th:only-of-type {\n",
              "        vertical-align: middle;\n",
              "    }\n",
              "\n",
              "    .dataframe tbody tr th {\n",
              "        vertical-align: top;\n",
              "    }\n",
              "\n",
              "    .dataframe thead th {\n",
              "        text-align: right;\n",
              "    }\n",
              "</style>\n",
              "<table border=\"1\" class=\"dataframe\">\n",
              "  <thead>\n",
              "    <tr style=\"text-align: right;\">\n",
              "      <th></th>\n",
              "      <th>data</th>\n",
              "      <th>sigmoid</th>\n",
              "    </tr>\n",
              "  </thead>\n",
              "  <tbody>\n",
              "    <tr>\n",
              "      <th>0</th>\n",
              "      <td>-3.000000</td>\n",
              "      <td>0.047426</td>\n",
              "    </tr>\n",
              "    <tr>\n",
              "      <th>1</th>\n",
              "      <td>-2.979933</td>\n",
              "      <td>0.048341</td>\n",
              "    </tr>\n",
              "    <tr>\n",
              "      <th>2</th>\n",
              "      <td>-2.959866</td>\n",
              "      <td>0.049272</td>\n",
              "    </tr>\n",
              "    <tr>\n",
              "      <th>3</th>\n",
              "      <td>-2.939799</td>\n",
              "      <td>0.050221</td>\n",
              "    </tr>\n",
              "    <tr>\n",
              "      <th>4</th>\n",
              "      <td>-2.919732</td>\n",
              "      <td>0.051187</td>\n",
              "    </tr>\n",
              "  </tbody>\n",
              "</table>\n",
              "</div>"
            ],
            "text/plain": [
              "       data   sigmoid\n",
              "0 -3.000000  0.047426\n",
              "1 -2.979933  0.048341\n",
              "2 -2.959866  0.049272\n",
              "3 -2.939799  0.050221\n",
              "4 -2.919732  0.051187"
            ]
          },
          "metadata": {
            "tags": []
          },
          "execution_count": 8
        }
      ]
    },
    {
      "cell_type": "code",
      "metadata": {
        "id": "DbWCwhXifvXx",
        "outputId": "996f8b52-dee7-47d8-f407-0c38a18259ee",
        "colab": {
          "base_uri": "https://localhost:8080/",
          "height": 417
        }
      },
      "source": [
        "px.line(data, x='data', y='sigmoid', width=500, height=400, range_y=[-0.5, 1.5])"
      ],
      "execution_count": null,
      "outputs": [
        {
          "output_type": "display_data",
          "data": {
            "text/html": [
              "<html>\n",
              "<head><meta charset=\"utf-8\" /></head>\n",
              "<body>\n",
              "    <div>\n",
              "            <script src=\"https://cdnjs.cloudflare.com/ajax/libs/mathjax/2.7.5/MathJax.js?config=TeX-AMS-MML_SVG\"></script><script type=\"text/javascript\">if (window.MathJax) {MathJax.Hub.Config({SVG: {font: \"STIX-Web\"}});}</script>\n",
              "                <script type=\"text/javascript\">window.PlotlyConfig = {MathJaxConfig: 'local'};</script>\n",
              "        <script src=\"https://cdn.plot.ly/plotly-latest.min.js\"></script>    \n",
              "            <div id=\"c4be678e-464f-4e8f-832b-20169260df75\" class=\"plotly-graph-div\" style=\"height:400px; width:500px;\"></div>\n",
              "            <script type=\"text/javascript\">\n",
              "                \n",
              "                    window.PLOTLYENV=window.PLOTLYENV || {};\n",
              "                    \n",
              "                if (document.getElementById(\"c4be678e-464f-4e8f-832b-20169260df75\")) {\n",
              "                    Plotly.newPlot(\n",
              "                        'c4be678e-464f-4e8f-832b-20169260df75',\n",
              "                        [{\"hoverlabel\": {\"namelength\": 0}, \"hovertemplate\": \"data=%{x}<br>sigmoid=%{y}\", \"legendgroup\": \"\", \"line\": {\"color\": \"#636efa\", \"dash\": \"solid\"}, \"mode\": \"lines\", \"name\": \"\", \"showlegend\": false, \"type\": \"scatter\", \"x\": [-3.0, -2.979933110367893, -2.959866220735786, -2.939799331103679, -2.919732441471572, -2.899665551839465, -2.879598662207358, -2.859531772575251, -2.839464882943144, -2.819397993311037, -2.79933110367893, -2.779264214046823, -2.759197324414716, -2.739130434782609, -2.719063545150502, -2.6989966555183944, -2.678929765886288, -2.6588628762541804, -2.638795986622074, -2.6187290969899664, -2.5986622073578594, -2.5785953177257523, -2.5585284280936453, -2.5384615384615383, -2.5183946488294313, -2.4983277591973243, -2.4782608695652173, -2.4581939799331103, -2.4381270903010033, -2.4180602006688963, -2.3979933110367893, -2.3779264214046822, -2.3578595317725752, -2.3377926421404682, -2.317725752508361, -2.297658862876254, -2.277591973244147, -2.25752508361204, -2.237458193979933, -2.217391304347826, -2.197324414715719, -2.177257525083612, -2.157190635451505, -2.137123745819398, -2.1170568561872907, -2.096989966555184, -2.0769230769230766, -2.05685618729097, -2.0367892976588626, -2.016722408026756, -1.9966555183946488, -1.9765886287625418, -1.9565217391304348, -1.9364548494983278, -1.9163879598662208, -1.8963210702341138, -1.8762541806020065, -1.8561872909698995, -1.8361204013377925, -1.8160535117056855, -1.7959866220735785, -1.7759197324414715, -1.7558528428093645, -1.7357859531772575, -1.7157190635451505, -1.6956521739130435, -1.6755852842809364, -1.6555183946488294, -1.6354515050167224, -1.6153846153846154, -1.5953177257525084, -1.5752508361204014, -1.5551839464882944, -1.5351170568561872, -1.5150501672240801, -1.4949832775919731, -1.4749163879598661, -1.4548494983277591, -1.434782608695652, -1.414715719063545, -1.394648829431438, -1.374581939799331, -1.354515050167224, -1.334448160535117, -1.31438127090301, -1.294314381270903, -1.274247491638796, -1.254180602006689, -1.2341137123745818, -1.2140468227424748, -1.1939799331103678, -1.1739130434782608, -1.1538461538461537, -1.1337792642140467, -1.1137123745819397, -1.0936454849498327, -1.0735785953177257, -1.0535117056856187, -1.0334448160535117, -1.0133779264214047, -0.9933110367892977, -0.9732441471571907, -0.9531772575250836, -0.9331103678929766, -0.9130434782608696, -0.8929765886287626, -0.8729096989966556, -0.8528428093645486, -0.8327759197324416, -0.8127090301003346, -0.7926421404682276, -0.7725752508361206, -0.7525083612040131, -0.7324414715719061, -0.7123745819397991, -0.6923076923076921, -0.6722408026755851, -0.652173913043478, -0.632107023411371, -0.612040133779264, -0.591973244147157, -0.57190635451505, -0.551839464882943, -0.531772575250836, -0.511705685618729, -0.49163879598662197, -0.47157190635451496, -0.45150501672240795, -0.43143812709030094, -0.41137123745819393, -0.3913043478260869, -0.3712374581939799, -0.3511705685618729, -0.3311036789297659, -0.3110367892976589, -0.29096989966555187, -0.27090301003344486, -0.25083612040133785, -0.23076923076923084, -0.21070234113712383, -0.19063545150501682, -0.1705685618729098, -0.1505016722408028, -0.1304347826086958, -0.11036789297658878, -0.09030100334448132, -0.07023411371237431, -0.0501672240802673, -0.030100334448160293, -0.010033444816053283, 0.010033444816053727, 0.030100334448160737, 0.05016722408026775, 0.07023411371237476, 0.09030100334448177, 0.11036789297658878, 0.1304347826086958, 0.1505016722408028, 0.1705685618729098, 0.19063545150501682, 0.21070234113712383, 0.23076923076923084, 0.25083612040133785, 0.27090301003344486, 0.29096989966555187, 0.3110367892976589, 0.3311036789297659, 0.3511705685618729, 0.3712374581939799, 0.3913043478260869, 0.41137123745819393, 0.43143812709030094, 0.45150501672240795, 0.47157190635451496, 0.49163879598662197, 0.511705685618729, 0.5317725752508364, 0.5518394648829434, 0.5719063545150505, 0.5919732441471575, 0.6120401337792645, 0.6321070234113715, 0.6521739130434785, 0.6722408026755855, 0.6923076923076925, 0.7123745819397995, 0.7324414715719065, 0.7525083612040135, 0.7725752508361206, 0.7926421404682276, 0.8127090301003346, 0.8327759197324416, 0.8528428093645486, 0.8729096989966556, 0.8929765886287626, 0.9130434782608696, 0.9331103678929766, 0.9531772575250836, 0.9732441471571907, 0.9933110367892977, 1.0133779264214047, 1.0334448160535121, 1.0535117056856187, 1.0735785953177261, 1.0936454849498327, 1.1137123745819402, 1.1337792642140467, 1.1538461538461542, 1.1739130434782608, 1.1939799331103682, 1.2140468227424748, 1.2341137123745822, 1.2541806020066888, 1.2742474916387962, 1.2943143812709028, 1.3143812709030103, 1.3344481605351168, 1.3545150501672243, 1.3745819397993309, 1.3946488294314383, 1.4147157190635449, 1.4347826086956523, 1.454849498327759, 1.4749163879598663, 1.4949832775919738, 1.5150501672240804, 1.5351170568561878, 1.5551839464882944, 1.5752508361204018, 1.5953177257525084, 1.6153846153846159, 1.6354515050167224, 1.6555183946488299, 1.6755852842809364, 1.695652173913044, 1.7157190635451505, 1.735785953177258, 1.7558528428093645, 1.775919732441472, 1.7959866220735785, 1.816053511705686, 1.8361204013377925, 1.8561872909699, 1.8762541806020065, 1.896321070234114, 1.9163879598662206, 1.936454849498328, 1.9565217391304346, 1.976588628762542, 1.9966555183946486, 2.016722408026756, 2.0367892976588626, 2.05685618729097, 2.0769230769230766, 2.096989966555184, 2.1170568561872907, 2.137123745819398, 2.1571906354515056, 2.177257525083612, 2.1973244147157196, 2.217391304347826, 2.2374581939799336, 2.25752508361204, 2.2775919732441476, 2.297658862876254, 2.3177257525083617, 2.3377926421404682, 2.3578595317725757, 2.3779264214046822, 2.3979933110367897, 2.4180602006688963, 2.4381270903010037, 2.4581939799331103, 2.4782608695652177, 2.4983277591973243, 2.5183946488294318, 2.5384615384615383, 2.558528428093646, 2.5785953177257523, 2.59866220735786, 2.6187290969899664, 2.638795986622074, 2.6588628762541804, 2.678929765886288, 2.6989966555183944, 2.719063545150502, 2.7391304347826084, 2.759197324414716, 2.7792642140468224, 2.79933110367893, 2.8193979933110374, 2.839464882943144, 2.8595317725752514, 2.879598662207358, 2.8996655518394654, 2.919732441471572, 2.9397993311036794, 2.959866220735786, 2.9799331103678934, 3.0], \"xaxis\": \"x\", \"y\": [0.04742587317756678, 0.048340705809681674, 0.04927227253100449, 0.050220843974060264, 0.05118669376913059, 0.05217009852116519, 0.05317133778377138, 0.054190694030171835, 0.05522845262101941, 0.05628490176895615, 0.057360332499801235, 0.0584550386102517, 0.059569316621977564, 0.060703465731992035, 0.06185778775917565, 0.06303258708683229, 0.06422817060115395, 0.06544484762546998, 0.06668292985015553, 0.06794273125807446, 0.06922456804542951, 0.07052875853789457, 0.07185562310190226, 0.07320548405096042, 0.0745786655468728, 0.07597549349573796, 0.07739629543860309, 0.07884140043664953, 0.08031113895078916, 0.08180584271555184, 0.08332584460714686, 0.08487147850558378, 0.08644307915074051, 0.08804098199227042, 0.08966552303324322, 0.09131703866741864, 0.0929958655100569, 0.09470234022217401, 0.09643679932815588, 0.09819957902665112, 0.09999101499466823, 0.10181144218481032, 0.10366119461558736, 0.10554060515475419, 0.10745000529563077, 0.10938972492636984, 0.11136009209214777, 0.11336143275026259, 0.11539407051813642, 0.11745832641422792, 0.11955451859187528, 0.12168296206610013, 0.12384396843341768, 0.1260378455847111, 0.1282648974112431, 0.1305254235038923, 0.13281971884571703, 0.1351480734979668, 0.13751077227967676, 0.13990809444099878, 0.14234031333043995, 0.14480769605619867, 0.14731050314180635, 0.14984898817630302, 0.15242339745919412, 0.1550339696404574, 0.1576809353558881, 0.160364516858093, 0.16308492764346447, 0.16584237207548816, 0.16863704500475898, 0.1714691313861033, 0.1743388058932271, 0.17724623253133148, 0.18019156424816118, 0.1831749425439719, 0.18619649708092617, 0.18925634529244867, 0.19235459199309404, 0.19549132898950097, 0.19866663469302864, 0.20188057373469068, 0.2051331965830219, 0.20842453916553333, 0.2117546224944275, 0.21512345229726554, 0.21853101865329141, 0.22197729563613694, 0.2254622409636431, 0.2289857956555469, 0.23254788369979437, 0.2361484117282508, 0.23978726870258613, 0.24346432561112227, 0.24717943517743174, 0.25093243158148215, 0.2547231301941202, 0.2585513273256891, 0.26241679998956935, 0.2663193056814292, 0.270258582174959, 0.27423434733486024, 0.2782462989478413, 0.282294114572361, 0.2863774514078418, 0.2904959461840557, 0.2946492150713616, 0.2988368536124499, 0.3030584366762204, 0.3073135184343916, 0.3116016323614029, 0.31592229125814075, 0.32027498729997705, 0.3246591921095709, 0.3290743568548415, 0.3335199123724729, 0.3379952693172676, 0.3424998183376125, 0.3470329302772734, 0.3515939564036772, 0.3561822286627892, 0.36079705996063294, 0.36543774447144606, 0.3701035579724016, 0.37479375820476785, 0.379507585261317, 0.3842442619997291, 0.38900299448167935, 0.39378297243723015, 0.3985833697540888, 0.40340334499122904, 0.40824204191631036, 0.41309859006627186, 0.417972105330411, 0.4228616905552035, 0.42776643617005883, 0.4326854208331506, 0.4376177120964073, 0.4425623670886927, 0.44751843321615914, 0.4524849488787065, 0.4574609442014324, 0.4624454417799226, 0.46743745743818327, 0.4724360009979878, 0.4774400770583734, 0.48244868578399414, 0.48746082370101385, 0.49247548449919676, 0.49749165983883814, 0.502508340161162, 0.5075245155008034, 0.5125391762989863, 0.5175513142160061, 0.5225599229416268, 0.5275639990020122, 0.5325625425618168, 0.5375545582200775, 0.5425390557985675, 0.5475150511212935, 0.5524815667838409, 0.5574376329113074, 0.5623822879035927, 0.5673145791668494, 0.5722335638299412, 0.5771383094447965, 0.5820278946695889, 0.5869014099337281, 0.5917579580836896, 0.596596655008771, 0.6014166302459112, 0.6062170275627699, 0.6109970055183207, 0.6157557380002708, 0.620492414738683, 0.6252062417952321, 0.6298964420275986, 0.634562255528554, 0.6392029400393672, 0.643817771337211, 0.6484060435963229, 0.6529670697227268, 0.6575001816623877, 0.6620047306827325, 0.6664800876275272, 0.6709256431451586, 0.6753408078904292, 0.6797250127000231, 0.6840777087418592, 0.6883983676385971, 0.6926864815656084, 0.6969415633237797, 0.7011631463875501, 0.7053507849286385, 0.7095040538159443, 0.7136225485921582, 0.717705885427639, 0.7217537010521586, 0.7257656526651398, 0.729741417825041, 0.7336806943185707, 0.7375832000104308, 0.7414486726743109, 0.7452768698058798, 0.7490675684185178, 0.7528205648225684, 0.7565356743888777, 0.760212731297414, 0.7638515882717491, 0.7674521163002057, 0.7710142043444532, 0.7745377590363569, 0.7780227043638631, 0.7814689813467086, 0.7848765477027345, 0.7882453775055726, 0.7915754608344666, 0.7948668034169782, 0.7981194262653092, 0.8013333653069714, 0.8045086710104989, 0.807645408006906, 0.8107436547075513, 0.8138035029190739, 0.8168250574560282, 0.8198084357518388, 0.8227537674686686, 0.825661194106773, 0.8285308686138968, 0.8313629549952409, 0.8341576279245119, 0.8369150723565355, 0.8396354831419071, 0.8423190646441119, 0.8449660303595427, 0.8475766025408059, 0.850151011823697, 0.8526894968581937, 0.8551923039438013, 0.8576596866695602, 0.8600919055590013, 0.8624892277203232, 0.8648519265020334, 0.867180281154283, 0.8694745764961077, 0.8717351025887569, 0.8739621544152889, 0.8761560315665824, 0.8783170379338998, 0.8804454814081246, 0.882541673585772, 0.8846059294818635, 0.8866385672497373, 0.8886399079078522, 0.8906102750736302, 0.8925499947043692, 0.894459394845246, 0.8963388053844128, 0.8981885578151897, 0.9000089850053319, 0.9018004209733488, 0.9035632006718441, 0.905297659777826, 0.9070041344899431, 0.9086829613325813, 0.9103344769667568, 0.9119590180077296, 0.9135569208492595, 0.9151285214944161, 0.9166741553928532, 0.9181941572844481, 0.9196888610492109, 0.9211585995633504, 0.922603704561397, 0.924024506504262, 0.9254213344531272, 0.9267945159490396, 0.9281443768980977, 0.9294712414621054, 0.9307754319545706, 0.9320572687419255, 0.9333170701498446, 0.9345551523745301, 0.9357718293988462, 0.9369674129131678, 0.9381422122408243, 0.939296534268008, 0.9404306833780225, 0.9415449613897483, 0.9426396675001988, 0.9437150982310439, 0.9447715473789806, 0.9458093059698282, 0.9468286622162286, 0.9478299014788348, 0.9488133062308695, 0.9497791560259397, 0.9507277274689955, 0.9516592941903183, 0.9525741268224334], \"yaxis\": \"y\"}],\n",
              "                        {\"height\": 400, \"legend\": {\"tracegroupgap\": 0}, \"margin\": {\"t\": 60}, \"template\": {\"data\": {\"bar\": [{\"error_x\": {\"color\": \"#2a3f5f\"}, \"error_y\": {\"color\": \"#2a3f5f\"}, \"marker\": {\"line\": {\"color\": \"#E5ECF6\", \"width\": 0.5}}, \"type\": \"bar\"}], \"barpolar\": [{\"marker\": {\"line\": {\"color\": \"#E5ECF6\", \"width\": 0.5}}, \"type\": \"barpolar\"}], \"carpet\": [{\"aaxis\": {\"endlinecolor\": \"#2a3f5f\", \"gridcolor\": \"white\", \"linecolor\": \"white\", \"minorgridcolor\": \"white\", \"startlinecolor\": \"#2a3f5f\"}, \"baxis\": {\"endlinecolor\": \"#2a3f5f\", \"gridcolor\": \"white\", \"linecolor\": \"white\", \"minorgridcolor\": \"white\", \"startlinecolor\": \"#2a3f5f\"}, \"type\": \"carpet\"}], \"choropleth\": [{\"colorbar\": {\"outlinewidth\": 0, \"ticks\": \"\"}, \"type\": \"choropleth\"}], \"contour\": [{\"colorbar\": {\"outlinewidth\": 0, \"ticks\": \"\"}, \"colorscale\": [[0.0, \"#0d0887\"], [0.1111111111111111, \"#46039f\"], [0.2222222222222222, \"#7201a8\"], [0.3333333333333333, \"#9c179e\"], [0.4444444444444444, \"#bd3786\"], [0.5555555555555556, \"#d8576b\"], [0.6666666666666666, \"#ed7953\"], [0.7777777777777778, \"#fb9f3a\"], [0.8888888888888888, \"#fdca26\"], [1.0, \"#f0f921\"]], \"type\": \"contour\"}], \"contourcarpet\": [{\"colorbar\": {\"outlinewidth\": 0, \"ticks\": \"\"}, \"type\": \"contourcarpet\"}], \"heatmap\": [{\"colorbar\": {\"outlinewidth\": 0, \"ticks\": \"\"}, \"colorscale\": [[0.0, \"#0d0887\"], [0.1111111111111111, \"#46039f\"], [0.2222222222222222, \"#7201a8\"], [0.3333333333333333, \"#9c179e\"], [0.4444444444444444, \"#bd3786\"], [0.5555555555555556, \"#d8576b\"], [0.6666666666666666, \"#ed7953\"], [0.7777777777777778, \"#fb9f3a\"], [0.8888888888888888, \"#fdca26\"], [1.0, \"#f0f921\"]], \"type\": \"heatmap\"}], \"heatmapgl\": [{\"colorbar\": {\"outlinewidth\": 0, \"ticks\": \"\"}, \"colorscale\": [[0.0, \"#0d0887\"], [0.1111111111111111, \"#46039f\"], [0.2222222222222222, \"#7201a8\"], [0.3333333333333333, \"#9c179e\"], [0.4444444444444444, \"#bd3786\"], [0.5555555555555556, \"#d8576b\"], [0.6666666666666666, \"#ed7953\"], [0.7777777777777778, \"#fb9f3a\"], [0.8888888888888888, \"#fdca26\"], [1.0, \"#f0f921\"]], \"type\": \"heatmapgl\"}], \"histogram\": [{\"marker\": {\"colorbar\": {\"outlinewidth\": 0, \"ticks\": \"\"}}, \"type\": \"histogram\"}], \"histogram2d\": [{\"colorbar\": {\"outlinewidth\": 0, \"ticks\": \"\"}, \"colorscale\": [[0.0, \"#0d0887\"], [0.1111111111111111, \"#46039f\"], [0.2222222222222222, \"#7201a8\"], [0.3333333333333333, \"#9c179e\"], [0.4444444444444444, \"#bd3786\"], [0.5555555555555556, \"#d8576b\"], [0.6666666666666666, \"#ed7953\"], [0.7777777777777778, \"#fb9f3a\"], [0.8888888888888888, \"#fdca26\"], [1.0, \"#f0f921\"]], \"type\": \"histogram2d\"}], \"histogram2dcontour\": [{\"colorbar\": {\"outlinewidth\": 0, \"ticks\": \"\"}, \"colorscale\": [[0.0, \"#0d0887\"], [0.1111111111111111, \"#46039f\"], [0.2222222222222222, \"#7201a8\"], [0.3333333333333333, \"#9c179e\"], [0.4444444444444444, \"#bd3786\"], [0.5555555555555556, \"#d8576b\"], [0.6666666666666666, \"#ed7953\"], [0.7777777777777778, \"#fb9f3a\"], [0.8888888888888888, \"#fdca26\"], [1.0, \"#f0f921\"]], \"type\": \"histogram2dcontour\"}], \"mesh3d\": [{\"colorbar\": {\"outlinewidth\": 0, \"ticks\": \"\"}, \"type\": \"mesh3d\"}], \"parcoords\": [{\"line\": {\"colorbar\": {\"outlinewidth\": 0, \"ticks\": \"\"}}, \"type\": \"parcoords\"}], \"scatter\": [{\"marker\": {\"colorbar\": {\"outlinewidth\": 0, \"ticks\": \"\"}}, \"type\": \"scatter\"}], \"scatter3d\": [{\"line\": {\"colorbar\": {\"outlinewidth\": 0, \"ticks\": \"\"}}, \"marker\": {\"colorbar\": {\"outlinewidth\": 0, \"ticks\": \"\"}}, \"type\": \"scatter3d\"}], \"scattercarpet\": [{\"marker\": {\"colorbar\": {\"outlinewidth\": 0, \"ticks\": \"\"}}, \"type\": \"scattercarpet\"}], \"scattergeo\": [{\"marker\": {\"colorbar\": {\"outlinewidth\": 0, \"ticks\": \"\"}}, \"type\": \"scattergeo\"}], \"scattergl\": [{\"marker\": {\"colorbar\": {\"outlinewidth\": 0, \"ticks\": \"\"}}, \"type\": \"scattergl\"}], \"scattermapbox\": [{\"marker\": {\"colorbar\": {\"outlinewidth\": 0, \"ticks\": \"\"}}, \"type\": \"scattermapbox\"}], \"scatterpolar\": [{\"marker\": {\"colorbar\": {\"outlinewidth\": 0, \"ticks\": \"\"}}, \"type\": \"scatterpolar\"}], \"scatterpolargl\": [{\"marker\": {\"colorbar\": {\"outlinewidth\": 0, \"ticks\": \"\"}}, \"type\": \"scatterpolargl\"}], \"scatterternary\": [{\"marker\": {\"colorbar\": {\"outlinewidth\": 0, \"ticks\": \"\"}}, \"type\": \"scatterternary\"}], \"surface\": [{\"colorbar\": {\"outlinewidth\": 0, \"ticks\": \"\"}, \"colorscale\": [[0.0, \"#0d0887\"], [0.1111111111111111, \"#46039f\"], [0.2222222222222222, \"#7201a8\"], [0.3333333333333333, \"#9c179e\"], [0.4444444444444444, \"#bd3786\"], [0.5555555555555556, \"#d8576b\"], [0.6666666666666666, \"#ed7953\"], [0.7777777777777778, \"#fb9f3a\"], [0.8888888888888888, \"#fdca26\"], [1.0, \"#f0f921\"]], \"type\": \"surface\"}], \"table\": [{\"cells\": {\"fill\": {\"color\": \"#EBF0F8\"}, \"line\": {\"color\": \"white\"}}, \"header\": {\"fill\": {\"color\": \"#C8D4E3\"}, \"line\": {\"color\": \"white\"}}, \"type\": \"table\"}]}, \"layout\": {\"annotationdefaults\": {\"arrowcolor\": \"#2a3f5f\", \"arrowhead\": 0, \"arrowwidth\": 1}, \"colorscale\": {\"diverging\": [[0, \"#8e0152\"], [0.1, \"#c51b7d\"], [0.2, \"#de77ae\"], [0.3, \"#f1b6da\"], [0.4, \"#fde0ef\"], [0.5, \"#f7f7f7\"], [0.6, \"#e6f5d0\"], [0.7, \"#b8e186\"], [0.8, \"#7fbc41\"], [0.9, \"#4d9221\"], [1, \"#276419\"]], \"sequential\": [[0.0, \"#0d0887\"], [0.1111111111111111, \"#46039f\"], [0.2222222222222222, \"#7201a8\"], [0.3333333333333333, \"#9c179e\"], [0.4444444444444444, \"#bd3786\"], [0.5555555555555556, \"#d8576b\"], [0.6666666666666666, \"#ed7953\"], [0.7777777777777778, \"#fb9f3a\"], [0.8888888888888888, \"#fdca26\"], [1.0, \"#f0f921\"]], \"sequentialminus\": [[0.0, \"#0d0887\"], [0.1111111111111111, \"#46039f\"], [0.2222222222222222, \"#7201a8\"], [0.3333333333333333, \"#9c179e\"], [0.4444444444444444, \"#bd3786\"], [0.5555555555555556, \"#d8576b\"], [0.6666666666666666, \"#ed7953\"], [0.7777777777777778, \"#fb9f3a\"], [0.8888888888888888, \"#fdca26\"], [1.0, \"#f0f921\"]]}, \"colorway\": [\"#636efa\", \"#EF553B\", \"#00cc96\", \"#ab63fa\", \"#FFA15A\", \"#19d3f3\", \"#FF6692\", \"#B6E880\", \"#FF97FF\", \"#FECB52\"], \"font\": {\"color\": \"#2a3f5f\"}, \"geo\": {\"bgcolor\": \"white\", \"lakecolor\": \"white\", \"landcolor\": \"#E5ECF6\", \"showlakes\": true, \"showland\": true, \"subunitcolor\": \"white\"}, \"hoverlabel\": {\"align\": \"left\"}, \"hovermode\": \"closest\", \"mapbox\": {\"style\": \"light\"}, \"paper_bgcolor\": \"white\", \"plot_bgcolor\": \"#E5ECF6\", \"polar\": {\"angularaxis\": {\"gridcolor\": \"white\", \"linecolor\": \"white\", \"ticks\": \"\"}, \"bgcolor\": \"#E5ECF6\", \"radialaxis\": {\"gridcolor\": \"white\", \"linecolor\": \"white\", \"ticks\": \"\"}}, \"scene\": {\"xaxis\": {\"backgroundcolor\": \"#E5ECF6\", \"gridcolor\": \"white\", \"gridwidth\": 2, \"linecolor\": \"white\", \"showbackground\": true, \"ticks\": \"\", \"zerolinecolor\": \"white\"}, \"yaxis\": {\"backgroundcolor\": \"#E5ECF6\", \"gridcolor\": \"white\", \"gridwidth\": 2, \"linecolor\": \"white\", \"showbackground\": true, \"ticks\": \"\", \"zerolinecolor\": \"white\"}, \"zaxis\": {\"backgroundcolor\": \"#E5ECF6\", \"gridcolor\": \"white\", \"gridwidth\": 2, \"linecolor\": \"white\", \"showbackground\": true, \"ticks\": \"\", \"zerolinecolor\": \"white\"}}, \"shapedefaults\": {\"line\": {\"color\": \"#2a3f5f\"}}, \"ternary\": {\"aaxis\": {\"gridcolor\": \"white\", \"linecolor\": \"white\", \"ticks\": \"\"}, \"baxis\": {\"gridcolor\": \"white\", \"linecolor\": \"white\", \"ticks\": \"\"}, \"bgcolor\": \"#E5ECF6\", \"caxis\": {\"gridcolor\": \"white\", \"linecolor\": \"white\", \"ticks\": \"\"}}, \"title\": {\"x\": 0.05}, \"xaxis\": {\"automargin\": true, \"gridcolor\": \"white\", \"linecolor\": \"white\", \"ticks\": \"\", \"zerolinecolor\": \"white\", \"zerolinewidth\": 2}, \"yaxis\": {\"automargin\": true, \"gridcolor\": \"white\", \"linecolor\": \"white\", \"ticks\": \"\", \"zerolinecolor\": \"white\", \"zerolinewidth\": 2}}}, \"width\": 500, \"xaxis\": {\"anchor\": \"y\", \"domain\": [0.0, 0.98], \"title\": {\"text\": \"data\"}}, \"yaxis\": {\"anchor\": \"x\", \"domain\": [0.0, 1.0], \"range\": [-0.5, 1.5], \"title\": {\"text\": \"sigmoid\"}}},\n",
              "                        {\"responsive\": true}\n",
              "                    ).then(function(){\n",
              "                            \n",
              "var gd = document.getElementById('c4be678e-464f-4e8f-832b-20169260df75');\n",
              "var x = new MutationObserver(function (mutations, observer) {{\n",
              "        var display = window.getComputedStyle(gd).display;\n",
              "        if (!display || display === 'none') {{\n",
              "            console.log([gd, 'removed!']);\n",
              "            Plotly.purge(gd);\n",
              "            observer.disconnect();\n",
              "        }}\n",
              "}});\n",
              "\n",
              "// Listen for the removal of the full notebook cells\n",
              "var notebookContainer = gd.closest('#notebook-container');\n",
              "if (notebookContainer) {{\n",
              "    x.observe(notebookContainer, {childList: true});\n",
              "}}\n",
              "\n",
              "// Listen for the clearing of the current output cell\n",
              "var outputEl = gd.closest('.output');\n",
              "if (outputEl) {{\n",
              "    x.observe(outputEl, {childList: true});\n",
              "}}\n",
              "\n",
              "                        })\n",
              "                };\n",
              "                \n",
              "            </script>\n",
              "        </div>\n",
              "</body>\n",
              "</html>"
            ]
          },
          "metadata": {
            "tags": []
          }
        }
      ]
    },
    {
      "cell_type": "code",
      "metadata": {
        "id": "bX8_Bg2OfyLi",
        "outputId": "979ad7af-ec5a-4b9d-92fd-3c1ce38e629d",
        "colab": {
          "base_uri": "https://localhost:8080/",
          "height": 203
        }
      },
      "source": [
        "from tensorflow.keras.activations import relu\n",
        "\n",
        "data = pd.DataFrame({'data': random_data, 'relu': relu(random_data)})\n",
        "data.head()"
      ],
      "execution_count": null,
      "outputs": [
        {
          "output_type": "execute_result",
          "data": {
            "text/html": [
              "<div>\n",
              "<style scoped>\n",
              "    .dataframe tbody tr th:only-of-type {\n",
              "        vertical-align: middle;\n",
              "    }\n",
              "\n",
              "    .dataframe tbody tr th {\n",
              "        vertical-align: top;\n",
              "    }\n",
              "\n",
              "    .dataframe thead th {\n",
              "        text-align: right;\n",
              "    }\n",
              "</style>\n",
              "<table border=\"1\" class=\"dataframe\">\n",
              "  <thead>\n",
              "    <tr style=\"text-align: right;\">\n",
              "      <th></th>\n",
              "      <th>data</th>\n",
              "      <th>relu</th>\n",
              "    </tr>\n",
              "  </thead>\n",
              "  <tbody>\n",
              "    <tr>\n",
              "      <th>0</th>\n",
              "      <td>-3.000000</td>\n",
              "      <td>0.0</td>\n",
              "    </tr>\n",
              "    <tr>\n",
              "      <th>1</th>\n",
              "      <td>-2.979933</td>\n",
              "      <td>0.0</td>\n",
              "    </tr>\n",
              "    <tr>\n",
              "      <th>2</th>\n",
              "      <td>-2.959866</td>\n",
              "      <td>0.0</td>\n",
              "    </tr>\n",
              "    <tr>\n",
              "      <th>3</th>\n",
              "      <td>-2.939799</td>\n",
              "      <td>0.0</td>\n",
              "    </tr>\n",
              "    <tr>\n",
              "      <th>4</th>\n",
              "      <td>-2.919732</td>\n",
              "      <td>0.0</td>\n",
              "    </tr>\n",
              "  </tbody>\n",
              "</table>\n",
              "</div>"
            ],
            "text/plain": [
              "       data  relu\n",
              "0 -3.000000   0.0\n",
              "1 -2.979933   0.0\n",
              "2 -2.959866   0.0\n",
              "3 -2.939799   0.0\n",
              "4 -2.919732   0.0"
            ]
          },
          "metadata": {
            "tags": []
          },
          "execution_count": 10
        }
      ]
    },
    {
      "cell_type": "code",
      "metadata": {
        "id": "vXV-1MECgWyz",
        "outputId": "cd804097-5230-42d2-85b4-55fb38d76601",
        "colab": {
          "base_uri": "https://localhost:8080/",
          "height": 417
        }
      },
      "source": [
        "px.line(data, x='data', y='relu', width=500, height=400, range_y=[-0.5, 1.5])"
      ],
      "execution_count": null,
      "outputs": [
        {
          "output_type": "display_data",
          "data": {
            "text/html": [
              "<html>\n",
              "<head><meta charset=\"utf-8\" /></head>\n",
              "<body>\n",
              "    <div>\n",
              "            <script src=\"https://cdnjs.cloudflare.com/ajax/libs/mathjax/2.7.5/MathJax.js?config=TeX-AMS-MML_SVG\"></script><script type=\"text/javascript\">if (window.MathJax) {MathJax.Hub.Config({SVG: {font: \"STIX-Web\"}});}</script>\n",
              "                <script type=\"text/javascript\">window.PlotlyConfig = {MathJaxConfig: 'local'};</script>\n",
              "        <script src=\"https://cdn.plot.ly/plotly-latest.min.js\"></script>    \n",
              "            <div id=\"d9095a65-6385-4a10-b02e-8fb1ca68be34\" class=\"plotly-graph-div\" style=\"height:400px; width:500px;\"></div>\n",
              "            <script type=\"text/javascript\">\n",
              "                \n",
              "                    window.PLOTLYENV=window.PLOTLYENV || {};\n",
              "                    \n",
              "                if (document.getElementById(\"d9095a65-6385-4a10-b02e-8fb1ca68be34\")) {\n",
              "                    Plotly.newPlot(\n",
              "                        'd9095a65-6385-4a10-b02e-8fb1ca68be34',\n",
              "                        [{\"hoverlabel\": {\"namelength\": 0}, \"hovertemplate\": \"data=%{x}<br>relu=%{y}\", \"legendgroup\": \"\", \"line\": {\"color\": \"#636efa\", \"dash\": \"solid\"}, \"mode\": \"lines\", \"name\": \"\", \"showlegend\": false, \"type\": \"scatter\", \"x\": [-3.0, -2.979933110367893, -2.959866220735786, -2.939799331103679, -2.919732441471572, -2.899665551839465, -2.879598662207358, -2.859531772575251, -2.839464882943144, -2.819397993311037, -2.79933110367893, -2.779264214046823, -2.759197324414716, -2.739130434782609, -2.719063545150502, -2.6989966555183944, -2.678929765886288, -2.6588628762541804, -2.638795986622074, -2.6187290969899664, -2.5986622073578594, -2.5785953177257523, -2.5585284280936453, -2.5384615384615383, -2.5183946488294313, -2.4983277591973243, -2.4782608695652173, -2.4581939799331103, -2.4381270903010033, -2.4180602006688963, -2.3979933110367893, -2.3779264214046822, -2.3578595317725752, -2.3377926421404682, -2.317725752508361, -2.297658862876254, -2.277591973244147, -2.25752508361204, -2.237458193979933, -2.217391304347826, -2.197324414715719, -2.177257525083612, -2.157190635451505, -2.137123745819398, -2.1170568561872907, -2.096989966555184, -2.0769230769230766, -2.05685618729097, -2.0367892976588626, -2.016722408026756, -1.9966555183946488, -1.9765886287625418, -1.9565217391304348, -1.9364548494983278, -1.9163879598662208, -1.8963210702341138, -1.8762541806020065, -1.8561872909698995, -1.8361204013377925, -1.8160535117056855, -1.7959866220735785, -1.7759197324414715, -1.7558528428093645, -1.7357859531772575, -1.7157190635451505, -1.6956521739130435, -1.6755852842809364, -1.6555183946488294, -1.6354515050167224, -1.6153846153846154, -1.5953177257525084, -1.5752508361204014, -1.5551839464882944, -1.5351170568561872, -1.5150501672240801, -1.4949832775919731, -1.4749163879598661, -1.4548494983277591, -1.434782608695652, -1.414715719063545, -1.394648829431438, -1.374581939799331, -1.354515050167224, -1.334448160535117, -1.31438127090301, -1.294314381270903, -1.274247491638796, -1.254180602006689, -1.2341137123745818, -1.2140468227424748, -1.1939799331103678, -1.1739130434782608, -1.1538461538461537, -1.1337792642140467, -1.1137123745819397, -1.0936454849498327, -1.0735785953177257, -1.0535117056856187, -1.0334448160535117, -1.0133779264214047, -0.9933110367892977, -0.9732441471571907, -0.9531772575250836, -0.9331103678929766, -0.9130434782608696, -0.8929765886287626, -0.8729096989966556, -0.8528428093645486, -0.8327759197324416, -0.8127090301003346, -0.7926421404682276, -0.7725752508361206, -0.7525083612040131, -0.7324414715719061, -0.7123745819397991, -0.6923076923076921, -0.6722408026755851, -0.652173913043478, -0.632107023411371, -0.612040133779264, -0.591973244147157, -0.57190635451505, -0.551839464882943, -0.531772575250836, -0.511705685618729, -0.49163879598662197, -0.47157190635451496, -0.45150501672240795, -0.43143812709030094, -0.41137123745819393, -0.3913043478260869, -0.3712374581939799, -0.3511705685618729, -0.3311036789297659, -0.3110367892976589, -0.29096989966555187, -0.27090301003344486, -0.25083612040133785, -0.23076923076923084, -0.21070234113712383, -0.19063545150501682, -0.1705685618729098, -0.1505016722408028, -0.1304347826086958, -0.11036789297658878, -0.09030100334448132, -0.07023411371237431, -0.0501672240802673, -0.030100334448160293, -0.010033444816053283, 0.010033444816053727, 0.030100334448160737, 0.05016722408026775, 0.07023411371237476, 0.09030100334448177, 0.11036789297658878, 0.1304347826086958, 0.1505016722408028, 0.1705685618729098, 0.19063545150501682, 0.21070234113712383, 0.23076923076923084, 0.25083612040133785, 0.27090301003344486, 0.29096989966555187, 0.3110367892976589, 0.3311036789297659, 0.3511705685618729, 0.3712374581939799, 0.3913043478260869, 0.41137123745819393, 0.43143812709030094, 0.45150501672240795, 0.47157190635451496, 0.49163879598662197, 0.511705685618729, 0.5317725752508364, 0.5518394648829434, 0.5719063545150505, 0.5919732441471575, 0.6120401337792645, 0.6321070234113715, 0.6521739130434785, 0.6722408026755855, 0.6923076923076925, 0.7123745819397995, 0.7324414715719065, 0.7525083612040135, 0.7725752508361206, 0.7926421404682276, 0.8127090301003346, 0.8327759197324416, 0.8528428093645486, 0.8729096989966556, 0.8929765886287626, 0.9130434782608696, 0.9331103678929766, 0.9531772575250836, 0.9732441471571907, 0.9933110367892977, 1.0133779264214047, 1.0334448160535121, 1.0535117056856187, 1.0735785953177261, 1.0936454849498327, 1.1137123745819402, 1.1337792642140467, 1.1538461538461542, 1.1739130434782608, 1.1939799331103682, 1.2140468227424748, 1.2341137123745822, 1.2541806020066888, 1.2742474916387962, 1.2943143812709028, 1.3143812709030103, 1.3344481605351168, 1.3545150501672243, 1.3745819397993309, 1.3946488294314383, 1.4147157190635449, 1.4347826086956523, 1.454849498327759, 1.4749163879598663, 1.4949832775919738, 1.5150501672240804, 1.5351170568561878, 1.5551839464882944, 1.5752508361204018, 1.5953177257525084, 1.6153846153846159, 1.6354515050167224, 1.6555183946488299, 1.6755852842809364, 1.695652173913044, 1.7157190635451505, 1.735785953177258, 1.7558528428093645, 1.775919732441472, 1.7959866220735785, 1.816053511705686, 1.8361204013377925, 1.8561872909699, 1.8762541806020065, 1.896321070234114, 1.9163879598662206, 1.936454849498328, 1.9565217391304346, 1.976588628762542, 1.9966555183946486, 2.016722408026756, 2.0367892976588626, 2.05685618729097, 2.0769230769230766, 2.096989966555184, 2.1170568561872907, 2.137123745819398, 2.1571906354515056, 2.177257525083612, 2.1973244147157196, 2.217391304347826, 2.2374581939799336, 2.25752508361204, 2.2775919732441476, 2.297658862876254, 2.3177257525083617, 2.3377926421404682, 2.3578595317725757, 2.3779264214046822, 2.3979933110367897, 2.4180602006688963, 2.4381270903010037, 2.4581939799331103, 2.4782608695652177, 2.4983277591973243, 2.5183946488294318, 2.5384615384615383, 2.558528428093646, 2.5785953177257523, 2.59866220735786, 2.6187290969899664, 2.638795986622074, 2.6588628762541804, 2.678929765886288, 2.6989966555183944, 2.719063545150502, 2.7391304347826084, 2.759197324414716, 2.7792642140468224, 2.79933110367893, 2.8193979933110374, 2.839464882943144, 2.8595317725752514, 2.879598662207358, 2.8996655518394654, 2.919732441471572, 2.9397993311036794, 2.959866220735786, 2.9799331103678934, 3.0], \"xaxis\": \"x\", \"y\": [0.0, 0.0, 0.0, 0.0, 0.0, 0.0, 0.0, 0.0, 0.0, 0.0, 0.0, 0.0, 0.0, 0.0, 0.0, 0.0, 0.0, 0.0, 0.0, 0.0, 0.0, 0.0, 0.0, 0.0, 0.0, 0.0, 0.0, 0.0, 0.0, 0.0, 0.0, 0.0, 0.0, 0.0, 0.0, 0.0, 0.0, 0.0, 0.0, 0.0, 0.0, 0.0, 0.0, 0.0, 0.0, 0.0, 0.0, 0.0, 0.0, 0.0, 0.0, 0.0, 0.0, 0.0, 0.0, 0.0, 0.0, 0.0, 0.0, 0.0, 0.0, 0.0, 0.0, 0.0, 0.0, 0.0, 0.0, 0.0, 0.0, 0.0, 0.0, 0.0, 0.0, 0.0, 0.0, 0.0, 0.0, 0.0, 0.0, 0.0, 0.0, 0.0, 0.0, 0.0, 0.0, 0.0, 0.0, 0.0, 0.0, 0.0, 0.0, 0.0, 0.0, 0.0, 0.0, 0.0, 0.0, 0.0, 0.0, 0.0, 0.0, 0.0, 0.0, 0.0, 0.0, 0.0, 0.0, 0.0, 0.0, 0.0, 0.0, 0.0, 0.0, 0.0, 0.0, 0.0, 0.0, 0.0, 0.0, 0.0, 0.0, 0.0, 0.0, 0.0, 0.0, 0.0, 0.0, 0.0, 0.0, 0.0, 0.0, 0.0, 0.0, 0.0, 0.0, 0.0, 0.0, 0.0, 0.0, 0.0, 0.0, 0.0, 0.0, 0.0, 0.0, 0.0, 0.0, 0.0, 0.0, 0.0, 0.010033444816053727, 0.030100334448160737, 0.05016722408026775, 0.07023411371237476, 0.09030100334448177, 0.11036789297658878, 0.1304347826086958, 0.1505016722408028, 0.1705685618729098, 0.19063545150501682, 0.21070234113712383, 0.23076923076923084, 0.25083612040133785, 0.27090301003344486, 0.29096989966555187, 0.3110367892976589, 0.3311036789297659, 0.3511705685618729, 0.3712374581939799, 0.3913043478260869, 0.41137123745819393, 0.43143812709030094, 0.45150501672240795, 0.47157190635451496, 0.49163879598662197, 0.511705685618729, 0.5317725752508364, 0.5518394648829434, 0.5719063545150505, 0.5919732441471575, 0.6120401337792645, 0.6321070234113715, 0.6521739130434785, 0.6722408026755855, 0.6923076923076925, 0.7123745819397995, 0.7324414715719065, 0.7525083612040135, 0.7725752508361206, 0.7926421404682276, 0.8127090301003346, 0.8327759197324416, 0.8528428093645486, 0.8729096989966556, 0.8929765886287626, 0.9130434782608696, 0.9331103678929766, 0.9531772575250836, 0.9732441471571907, 0.9933110367892977, 1.0133779264214047, 1.0334448160535121, 1.0535117056856187, 1.0735785953177261, 1.0936454849498327, 1.1137123745819402, 1.1337792642140467, 1.1538461538461542, 1.1739130434782608, 1.1939799331103682, 1.2140468227424748, 1.2341137123745822, 1.2541806020066888, 1.2742474916387962, 1.2943143812709028, 1.3143812709030103, 1.3344481605351168, 1.3545150501672243, 1.3745819397993309, 1.3946488294314383, 1.4147157190635449, 1.4347826086956523, 1.454849498327759, 1.4749163879598663, 1.4949832775919738, 1.5150501672240804, 1.5351170568561878, 1.5551839464882944, 1.5752508361204018, 1.5953177257525084, 1.6153846153846159, 1.6354515050167224, 1.6555183946488299, 1.6755852842809364, 1.695652173913044, 1.7157190635451505, 1.735785953177258, 1.7558528428093645, 1.775919732441472, 1.7959866220735785, 1.816053511705686, 1.8361204013377925, 1.8561872909699, 1.8762541806020065, 1.896321070234114, 1.9163879598662206, 1.936454849498328, 1.9565217391304346, 1.976588628762542, 1.9966555183946486, 2.016722408026756, 2.0367892976588626, 2.05685618729097, 2.0769230769230766, 2.096989966555184, 2.1170568561872907, 2.137123745819398, 2.1571906354515056, 2.177257525083612, 2.1973244147157196, 2.217391304347826, 2.2374581939799336, 2.25752508361204, 2.2775919732441476, 2.297658862876254, 2.3177257525083617, 2.3377926421404682, 2.3578595317725757, 2.3779264214046822, 2.3979933110367897, 2.4180602006688963, 2.4381270903010037, 2.4581939799331103, 2.4782608695652177, 2.4983277591973243, 2.5183946488294318, 2.5384615384615383, 2.558528428093646, 2.5785953177257523, 2.59866220735786, 2.6187290969899664, 2.638795986622074, 2.6588628762541804, 2.678929765886288, 2.6989966555183944, 2.719063545150502, 2.7391304347826084, 2.759197324414716, 2.7792642140468224, 2.79933110367893, 2.8193979933110374, 2.839464882943144, 2.8595317725752514, 2.879598662207358, 2.8996655518394654, 2.919732441471572, 2.9397993311036794, 2.959866220735786, 2.9799331103678934, 3.0], \"yaxis\": \"y\"}],\n",
              "                        {\"height\": 400, \"legend\": {\"tracegroupgap\": 0}, \"margin\": {\"t\": 60}, \"template\": {\"data\": {\"bar\": [{\"error_x\": {\"color\": \"#2a3f5f\"}, \"error_y\": {\"color\": \"#2a3f5f\"}, \"marker\": {\"line\": {\"color\": \"#E5ECF6\", \"width\": 0.5}}, \"type\": \"bar\"}], \"barpolar\": [{\"marker\": {\"line\": {\"color\": \"#E5ECF6\", \"width\": 0.5}}, \"type\": \"barpolar\"}], \"carpet\": [{\"aaxis\": {\"endlinecolor\": \"#2a3f5f\", \"gridcolor\": \"white\", \"linecolor\": \"white\", \"minorgridcolor\": \"white\", \"startlinecolor\": \"#2a3f5f\"}, \"baxis\": {\"endlinecolor\": \"#2a3f5f\", \"gridcolor\": \"white\", \"linecolor\": \"white\", \"minorgridcolor\": \"white\", \"startlinecolor\": \"#2a3f5f\"}, \"type\": \"carpet\"}], \"choropleth\": [{\"colorbar\": {\"outlinewidth\": 0, \"ticks\": \"\"}, \"type\": \"choropleth\"}], \"contour\": [{\"colorbar\": {\"outlinewidth\": 0, \"ticks\": \"\"}, \"colorscale\": [[0.0, \"#0d0887\"], [0.1111111111111111, \"#46039f\"], [0.2222222222222222, \"#7201a8\"], [0.3333333333333333, \"#9c179e\"], [0.4444444444444444, \"#bd3786\"], [0.5555555555555556, \"#d8576b\"], [0.6666666666666666, \"#ed7953\"], [0.7777777777777778, \"#fb9f3a\"], [0.8888888888888888, \"#fdca26\"], [1.0, \"#f0f921\"]], \"type\": \"contour\"}], \"contourcarpet\": [{\"colorbar\": {\"outlinewidth\": 0, \"ticks\": \"\"}, \"type\": \"contourcarpet\"}], \"heatmap\": [{\"colorbar\": {\"outlinewidth\": 0, \"ticks\": \"\"}, \"colorscale\": [[0.0, \"#0d0887\"], [0.1111111111111111, \"#46039f\"], [0.2222222222222222, \"#7201a8\"], [0.3333333333333333, \"#9c179e\"], [0.4444444444444444, \"#bd3786\"], [0.5555555555555556, \"#d8576b\"], [0.6666666666666666, \"#ed7953\"], [0.7777777777777778, \"#fb9f3a\"], [0.8888888888888888, \"#fdca26\"], [1.0, \"#f0f921\"]], \"type\": \"heatmap\"}], \"heatmapgl\": [{\"colorbar\": {\"outlinewidth\": 0, \"ticks\": \"\"}, \"colorscale\": [[0.0, \"#0d0887\"], [0.1111111111111111, \"#46039f\"], [0.2222222222222222, \"#7201a8\"], [0.3333333333333333, \"#9c179e\"], [0.4444444444444444, \"#bd3786\"], [0.5555555555555556, \"#d8576b\"], [0.6666666666666666, \"#ed7953\"], [0.7777777777777778, \"#fb9f3a\"], [0.8888888888888888, \"#fdca26\"], [1.0, \"#f0f921\"]], \"type\": \"heatmapgl\"}], \"histogram\": [{\"marker\": {\"colorbar\": {\"outlinewidth\": 0, \"ticks\": \"\"}}, \"type\": \"histogram\"}], \"histogram2d\": [{\"colorbar\": {\"outlinewidth\": 0, \"ticks\": \"\"}, \"colorscale\": [[0.0, \"#0d0887\"], [0.1111111111111111, \"#46039f\"], [0.2222222222222222, \"#7201a8\"], [0.3333333333333333, \"#9c179e\"], [0.4444444444444444, \"#bd3786\"], [0.5555555555555556, \"#d8576b\"], [0.6666666666666666, \"#ed7953\"], [0.7777777777777778, \"#fb9f3a\"], [0.8888888888888888, \"#fdca26\"], [1.0, \"#f0f921\"]], \"type\": \"histogram2d\"}], \"histogram2dcontour\": [{\"colorbar\": {\"outlinewidth\": 0, \"ticks\": \"\"}, \"colorscale\": [[0.0, \"#0d0887\"], [0.1111111111111111, \"#46039f\"], [0.2222222222222222, \"#7201a8\"], [0.3333333333333333, \"#9c179e\"], [0.4444444444444444, \"#bd3786\"], [0.5555555555555556, \"#d8576b\"], [0.6666666666666666, \"#ed7953\"], [0.7777777777777778, \"#fb9f3a\"], [0.8888888888888888, \"#fdca26\"], [1.0, \"#f0f921\"]], \"type\": \"histogram2dcontour\"}], \"mesh3d\": [{\"colorbar\": {\"outlinewidth\": 0, \"ticks\": \"\"}, \"type\": \"mesh3d\"}], \"parcoords\": [{\"line\": {\"colorbar\": {\"outlinewidth\": 0, \"ticks\": \"\"}}, \"type\": \"parcoords\"}], \"scatter\": [{\"marker\": {\"colorbar\": {\"outlinewidth\": 0, \"ticks\": \"\"}}, \"type\": \"scatter\"}], \"scatter3d\": [{\"line\": {\"colorbar\": {\"outlinewidth\": 0, \"ticks\": \"\"}}, \"marker\": {\"colorbar\": {\"outlinewidth\": 0, \"ticks\": \"\"}}, \"type\": \"scatter3d\"}], \"scattercarpet\": [{\"marker\": {\"colorbar\": {\"outlinewidth\": 0, \"ticks\": \"\"}}, \"type\": \"scattercarpet\"}], \"scattergeo\": [{\"marker\": {\"colorbar\": {\"outlinewidth\": 0, \"ticks\": \"\"}}, \"type\": \"scattergeo\"}], \"scattergl\": [{\"marker\": {\"colorbar\": {\"outlinewidth\": 0, \"ticks\": \"\"}}, \"type\": \"scattergl\"}], \"scattermapbox\": [{\"marker\": {\"colorbar\": {\"outlinewidth\": 0, \"ticks\": \"\"}}, \"type\": \"scattermapbox\"}], \"scatterpolar\": [{\"marker\": {\"colorbar\": {\"outlinewidth\": 0, \"ticks\": \"\"}}, \"type\": \"scatterpolar\"}], \"scatterpolargl\": [{\"marker\": {\"colorbar\": {\"outlinewidth\": 0, \"ticks\": \"\"}}, \"type\": \"scatterpolargl\"}], \"scatterternary\": [{\"marker\": {\"colorbar\": {\"outlinewidth\": 0, \"ticks\": \"\"}}, \"type\": \"scatterternary\"}], \"surface\": [{\"colorbar\": {\"outlinewidth\": 0, \"ticks\": \"\"}, \"colorscale\": [[0.0, \"#0d0887\"], [0.1111111111111111, \"#46039f\"], [0.2222222222222222, \"#7201a8\"], [0.3333333333333333, \"#9c179e\"], [0.4444444444444444, \"#bd3786\"], [0.5555555555555556, \"#d8576b\"], [0.6666666666666666, \"#ed7953\"], [0.7777777777777778, \"#fb9f3a\"], [0.8888888888888888, \"#fdca26\"], [1.0, \"#f0f921\"]], \"type\": \"surface\"}], \"table\": [{\"cells\": {\"fill\": {\"color\": \"#EBF0F8\"}, \"line\": {\"color\": \"white\"}}, \"header\": {\"fill\": {\"color\": \"#C8D4E3\"}, \"line\": {\"color\": \"white\"}}, \"type\": \"table\"}]}, \"layout\": {\"annotationdefaults\": {\"arrowcolor\": \"#2a3f5f\", \"arrowhead\": 0, \"arrowwidth\": 1}, \"colorscale\": {\"diverging\": [[0, \"#8e0152\"], [0.1, \"#c51b7d\"], [0.2, \"#de77ae\"], [0.3, \"#f1b6da\"], [0.4, \"#fde0ef\"], [0.5, \"#f7f7f7\"], [0.6, \"#e6f5d0\"], [0.7, \"#b8e186\"], [0.8, \"#7fbc41\"], [0.9, \"#4d9221\"], [1, \"#276419\"]], \"sequential\": [[0.0, \"#0d0887\"], [0.1111111111111111, \"#46039f\"], [0.2222222222222222, \"#7201a8\"], [0.3333333333333333, \"#9c179e\"], [0.4444444444444444, \"#bd3786\"], [0.5555555555555556, \"#d8576b\"], [0.6666666666666666, \"#ed7953\"], [0.7777777777777778, \"#fb9f3a\"], [0.8888888888888888, \"#fdca26\"], [1.0, \"#f0f921\"]], \"sequentialminus\": [[0.0, \"#0d0887\"], [0.1111111111111111, \"#46039f\"], [0.2222222222222222, \"#7201a8\"], [0.3333333333333333, \"#9c179e\"], [0.4444444444444444, \"#bd3786\"], [0.5555555555555556, \"#d8576b\"], [0.6666666666666666, \"#ed7953\"], [0.7777777777777778, \"#fb9f3a\"], [0.8888888888888888, \"#fdca26\"], [1.0, \"#f0f921\"]]}, \"colorway\": [\"#636efa\", \"#EF553B\", \"#00cc96\", \"#ab63fa\", \"#FFA15A\", \"#19d3f3\", \"#FF6692\", \"#B6E880\", \"#FF97FF\", \"#FECB52\"], \"font\": {\"color\": \"#2a3f5f\"}, \"geo\": {\"bgcolor\": \"white\", \"lakecolor\": \"white\", \"landcolor\": \"#E5ECF6\", \"showlakes\": true, \"showland\": true, \"subunitcolor\": \"white\"}, \"hoverlabel\": {\"align\": \"left\"}, \"hovermode\": \"closest\", \"mapbox\": {\"style\": \"light\"}, \"paper_bgcolor\": \"white\", \"plot_bgcolor\": \"#E5ECF6\", \"polar\": {\"angularaxis\": {\"gridcolor\": \"white\", \"linecolor\": \"white\", \"ticks\": \"\"}, \"bgcolor\": \"#E5ECF6\", \"radialaxis\": {\"gridcolor\": \"white\", \"linecolor\": \"white\", \"ticks\": \"\"}}, \"scene\": {\"xaxis\": {\"backgroundcolor\": \"#E5ECF6\", \"gridcolor\": \"white\", \"gridwidth\": 2, \"linecolor\": \"white\", \"showbackground\": true, \"ticks\": \"\", \"zerolinecolor\": \"white\"}, \"yaxis\": {\"backgroundcolor\": \"#E5ECF6\", \"gridcolor\": \"white\", \"gridwidth\": 2, \"linecolor\": \"white\", \"showbackground\": true, \"ticks\": \"\", \"zerolinecolor\": \"white\"}, \"zaxis\": {\"backgroundcolor\": \"#E5ECF6\", \"gridcolor\": \"white\", \"gridwidth\": 2, \"linecolor\": \"white\", \"showbackground\": true, \"ticks\": \"\", \"zerolinecolor\": \"white\"}}, \"shapedefaults\": {\"line\": {\"color\": \"#2a3f5f\"}}, \"ternary\": {\"aaxis\": {\"gridcolor\": \"white\", \"linecolor\": \"white\", \"ticks\": \"\"}, \"baxis\": {\"gridcolor\": \"white\", \"linecolor\": \"white\", \"ticks\": \"\"}, \"bgcolor\": \"#E5ECF6\", \"caxis\": {\"gridcolor\": \"white\", \"linecolor\": \"white\", \"ticks\": \"\"}}, \"title\": {\"x\": 0.05}, \"xaxis\": {\"automargin\": true, \"gridcolor\": \"white\", \"linecolor\": \"white\", \"ticks\": \"\", \"zerolinecolor\": \"white\", \"zerolinewidth\": 2}, \"yaxis\": {\"automargin\": true, \"gridcolor\": \"white\", \"linecolor\": \"white\", \"ticks\": \"\", \"zerolinecolor\": \"white\", \"zerolinewidth\": 2}}}, \"width\": 500, \"xaxis\": {\"anchor\": \"y\", \"domain\": [0.0, 0.98], \"title\": {\"text\": \"data\"}}, \"yaxis\": {\"anchor\": \"x\", \"domain\": [0.0, 1.0], \"range\": [-0.5, 1.5], \"title\": {\"text\": \"relu\"}}},\n",
              "                        {\"responsive\": true}\n",
              "                    ).then(function(){\n",
              "                            \n",
              "var gd = document.getElementById('d9095a65-6385-4a10-b02e-8fb1ca68be34');\n",
              "var x = new MutationObserver(function (mutations, observer) {{\n",
              "        var display = window.getComputedStyle(gd).display;\n",
              "        if (!display || display === 'none') {{\n",
              "            console.log([gd, 'removed!']);\n",
              "            Plotly.purge(gd);\n",
              "            observer.disconnect();\n",
              "        }}\n",
              "}});\n",
              "\n",
              "// Listen for the removal of the full notebook cells\n",
              "var notebookContainer = gd.closest('#notebook-container');\n",
              "if (notebookContainer) {{\n",
              "    x.observe(notebookContainer, {childList: true});\n",
              "}}\n",
              "\n",
              "// Listen for the clearing of the current output cell\n",
              "var outputEl = gd.closest('.output');\n",
              "if (outputEl) {{\n",
              "    x.observe(outputEl, {childList: true});\n",
              "}}\n",
              "\n",
              "                        })\n",
              "                };\n",
              "                \n",
              "            </script>\n",
              "        </div>\n",
              "</body>\n",
              "</html>"
            ]
          },
          "metadata": {
            "tags": []
          }
        }
      ]
    },
    {
      "cell_type": "code",
      "metadata": {
        "id": "5AF9VX1OgZNg",
        "outputId": "f57bd974-04ab-4c37-abea-79a07d46983d",
        "colab": {
          "base_uri": "https://localhost:8080/",
          "height": 203
        }
      },
      "source": [
        "from tensorflow.keras.activations import tanh\n",
        "\n",
        "data = pd.DataFrame({'data': random_data, 'tanh': tanh(random_data)})\n",
        "data.head()"
      ],
      "execution_count": null,
      "outputs": [
        {
          "output_type": "execute_result",
          "data": {
            "text/html": [
              "<div>\n",
              "<style scoped>\n",
              "    .dataframe tbody tr th:only-of-type {\n",
              "        vertical-align: middle;\n",
              "    }\n",
              "\n",
              "    .dataframe tbody tr th {\n",
              "        vertical-align: top;\n",
              "    }\n",
              "\n",
              "    .dataframe thead th {\n",
              "        text-align: right;\n",
              "    }\n",
              "</style>\n",
              "<table border=\"1\" class=\"dataframe\">\n",
              "  <thead>\n",
              "    <tr style=\"text-align: right;\">\n",
              "      <th></th>\n",
              "      <th>data</th>\n",
              "      <th>tanh</th>\n",
              "    </tr>\n",
              "  </thead>\n",
              "  <tbody>\n",
              "    <tr>\n",
              "      <th>0</th>\n",
              "      <td>-3.000000</td>\n",
              "      <td>-0.995055</td>\n",
              "    </tr>\n",
              "    <tr>\n",
              "      <th>1</th>\n",
              "      <td>-2.979933</td>\n",
              "      <td>-0.994853</td>\n",
              "    </tr>\n",
              "    <tr>\n",
              "      <th>2</th>\n",
              "      <td>-2.959866</td>\n",
              "      <td>-0.994643</td>\n",
              "    </tr>\n",
              "    <tr>\n",
              "      <th>3</th>\n",
              "      <td>-2.939799</td>\n",
              "      <td>-0.994424</td>\n",
              "    </tr>\n",
              "    <tr>\n",
              "      <th>4</th>\n",
              "      <td>-2.919732</td>\n",
              "      <td>-0.994196</td>\n",
              "    </tr>\n",
              "  </tbody>\n",
              "</table>\n",
              "</div>"
            ],
            "text/plain": [
              "       data      tanh\n",
              "0 -3.000000 -0.995055\n",
              "1 -2.979933 -0.994853\n",
              "2 -2.959866 -0.994643\n",
              "3 -2.939799 -0.994424\n",
              "4 -2.919732 -0.994196"
            ]
          },
          "metadata": {
            "tags": []
          },
          "execution_count": 12
        }
      ]
    },
    {
      "cell_type": "code",
      "metadata": {
        "id": "60dxCfJpghZR",
        "outputId": "44b01408-aeac-4dcf-ebd1-723325f810bd",
        "colab": {
          "base_uri": "https://localhost:8080/",
          "height": 417
        }
      },
      "source": [
        "px.line(data, x='data', y='tanh', width=500, height=400, range_y=[-1.5, 1.5])"
      ],
      "execution_count": null,
      "outputs": [
        {
          "output_type": "display_data",
          "data": {
            "text/html": [
              "<html>\n",
              "<head><meta charset=\"utf-8\" /></head>\n",
              "<body>\n",
              "    <div>\n",
              "            <script src=\"https://cdnjs.cloudflare.com/ajax/libs/mathjax/2.7.5/MathJax.js?config=TeX-AMS-MML_SVG\"></script><script type=\"text/javascript\">if (window.MathJax) {MathJax.Hub.Config({SVG: {font: \"STIX-Web\"}});}</script>\n",
              "                <script type=\"text/javascript\">window.PlotlyConfig = {MathJaxConfig: 'local'};</script>\n",
              "        <script src=\"https://cdn.plot.ly/plotly-latest.min.js\"></script>    \n",
              "            <div id=\"8cf5904a-a316-477e-8f03-43cafc28b171\" class=\"plotly-graph-div\" style=\"height:400px; width:500px;\"></div>\n",
              "            <script type=\"text/javascript\">\n",
              "                \n",
              "                    window.PLOTLYENV=window.PLOTLYENV || {};\n",
              "                    \n",
              "                if (document.getElementById(\"8cf5904a-a316-477e-8f03-43cafc28b171\")) {\n",
              "                    Plotly.newPlot(\n",
              "                        '8cf5904a-a316-477e-8f03-43cafc28b171',\n",
              "                        [{\"hoverlabel\": {\"namelength\": 0}, \"hovertemplate\": \"data=%{x}<br>tanh=%{y}\", \"legendgroup\": \"\", \"line\": {\"color\": \"#636efa\", \"dash\": \"solid\"}, \"mode\": \"lines\", \"name\": \"\", \"showlegend\": false, \"type\": \"scatter\", \"x\": [-3.0, -2.979933110367893, -2.959866220735786, -2.939799331103679, -2.919732441471572, -2.899665551839465, -2.879598662207358, -2.859531772575251, -2.839464882943144, -2.819397993311037, -2.79933110367893, -2.779264214046823, -2.759197324414716, -2.739130434782609, -2.719063545150502, -2.6989966555183944, -2.678929765886288, -2.6588628762541804, -2.638795986622074, -2.6187290969899664, -2.5986622073578594, -2.5785953177257523, -2.5585284280936453, -2.5384615384615383, -2.5183946488294313, -2.4983277591973243, -2.4782608695652173, -2.4581939799331103, -2.4381270903010033, -2.4180602006688963, -2.3979933110367893, -2.3779264214046822, -2.3578595317725752, -2.3377926421404682, -2.317725752508361, -2.297658862876254, -2.277591973244147, -2.25752508361204, -2.237458193979933, -2.217391304347826, -2.197324414715719, -2.177257525083612, -2.157190635451505, -2.137123745819398, -2.1170568561872907, -2.096989966555184, -2.0769230769230766, -2.05685618729097, -2.0367892976588626, -2.016722408026756, -1.9966555183946488, -1.9765886287625418, -1.9565217391304348, -1.9364548494983278, -1.9163879598662208, -1.8963210702341138, -1.8762541806020065, -1.8561872909698995, -1.8361204013377925, -1.8160535117056855, -1.7959866220735785, -1.7759197324414715, -1.7558528428093645, -1.7357859531772575, -1.7157190635451505, -1.6956521739130435, -1.6755852842809364, -1.6555183946488294, -1.6354515050167224, -1.6153846153846154, -1.5953177257525084, -1.5752508361204014, -1.5551839464882944, -1.5351170568561872, -1.5150501672240801, -1.4949832775919731, -1.4749163879598661, -1.4548494983277591, -1.434782608695652, -1.414715719063545, -1.394648829431438, -1.374581939799331, -1.354515050167224, -1.334448160535117, -1.31438127090301, -1.294314381270903, -1.274247491638796, -1.254180602006689, -1.2341137123745818, -1.2140468227424748, -1.1939799331103678, -1.1739130434782608, -1.1538461538461537, -1.1337792642140467, -1.1137123745819397, -1.0936454849498327, -1.0735785953177257, -1.0535117056856187, -1.0334448160535117, -1.0133779264214047, -0.9933110367892977, -0.9732441471571907, -0.9531772575250836, -0.9331103678929766, -0.9130434782608696, -0.8929765886287626, -0.8729096989966556, -0.8528428093645486, -0.8327759197324416, -0.8127090301003346, -0.7926421404682276, -0.7725752508361206, -0.7525083612040131, -0.7324414715719061, -0.7123745819397991, -0.6923076923076921, -0.6722408026755851, -0.652173913043478, -0.632107023411371, -0.612040133779264, -0.591973244147157, -0.57190635451505, -0.551839464882943, -0.531772575250836, -0.511705685618729, -0.49163879598662197, -0.47157190635451496, -0.45150501672240795, -0.43143812709030094, -0.41137123745819393, -0.3913043478260869, -0.3712374581939799, -0.3511705685618729, -0.3311036789297659, -0.3110367892976589, -0.29096989966555187, -0.27090301003344486, -0.25083612040133785, -0.23076923076923084, -0.21070234113712383, -0.19063545150501682, -0.1705685618729098, -0.1505016722408028, -0.1304347826086958, -0.11036789297658878, -0.09030100334448132, -0.07023411371237431, -0.0501672240802673, -0.030100334448160293, -0.010033444816053283, 0.010033444816053727, 0.030100334448160737, 0.05016722408026775, 0.07023411371237476, 0.09030100334448177, 0.11036789297658878, 0.1304347826086958, 0.1505016722408028, 0.1705685618729098, 0.19063545150501682, 0.21070234113712383, 0.23076923076923084, 0.25083612040133785, 0.27090301003344486, 0.29096989966555187, 0.3110367892976589, 0.3311036789297659, 0.3511705685618729, 0.3712374581939799, 0.3913043478260869, 0.41137123745819393, 0.43143812709030094, 0.45150501672240795, 0.47157190635451496, 0.49163879598662197, 0.511705685618729, 0.5317725752508364, 0.5518394648829434, 0.5719063545150505, 0.5919732441471575, 0.6120401337792645, 0.6321070234113715, 0.6521739130434785, 0.6722408026755855, 0.6923076923076925, 0.7123745819397995, 0.7324414715719065, 0.7525083612040135, 0.7725752508361206, 0.7926421404682276, 0.8127090301003346, 0.8327759197324416, 0.8528428093645486, 0.8729096989966556, 0.8929765886287626, 0.9130434782608696, 0.9331103678929766, 0.9531772575250836, 0.9732441471571907, 0.9933110367892977, 1.0133779264214047, 1.0334448160535121, 1.0535117056856187, 1.0735785953177261, 1.0936454849498327, 1.1137123745819402, 1.1337792642140467, 1.1538461538461542, 1.1739130434782608, 1.1939799331103682, 1.2140468227424748, 1.2341137123745822, 1.2541806020066888, 1.2742474916387962, 1.2943143812709028, 1.3143812709030103, 1.3344481605351168, 1.3545150501672243, 1.3745819397993309, 1.3946488294314383, 1.4147157190635449, 1.4347826086956523, 1.454849498327759, 1.4749163879598663, 1.4949832775919738, 1.5150501672240804, 1.5351170568561878, 1.5551839464882944, 1.5752508361204018, 1.5953177257525084, 1.6153846153846159, 1.6354515050167224, 1.6555183946488299, 1.6755852842809364, 1.695652173913044, 1.7157190635451505, 1.735785953177258, 1.7558528428093645, 1.775919732441472, 1.7959866220735785, 1.816053511705686, 1.8361204013377925, 1.8561872909699, 1.8762541806020065, 1.896321070234114, 1.9163879598662206, 1.936454849498328, 1.9565217391304346, 1.976588628762542, 1.9966555183946486, 2.016722408026756, 2.0367892976588626, 2.05685618729097, 2.0769230769230766, 2.096989966555184, 2.1170568561872907, 2.137123745819398, 2.1571906354515056, 2.177257525083612, 2.1973244147157196, 2.217391304347826, 2.2374581939799336, 2.25752508361204, 2.2775919732441476, 2.297658862876254, 2.3177257525083617, 2.3377926421404682, 2.3578595317725757, 2.3779264214046822, 2.3979933110367897, 2.4180602006688963, 2.4381270903010037, 2.4581939799331103, 2.4782608695652177, 2.4983277591973243, 2.5183946488294318, 2.5384615384615383, 2.558528428093646, 2.5785953177257523, 2.59866220735786, 2.6187290969899664, 2.638795986622074, 2.6588628762541804, 2.678929765886288, 2.6989966555183944, 2.719063545150502, 2.7391304347826084, 2.759197324414716, 2.7792642140468224, 2.79933110367893, 2.8193979933110374, 2.839464882943144, 2.8595317725752514, 2.879598662207358, 2.8996655518394654, 2.919732441471572, 2.9397993311036794, 2.959866220735786, 2.9799331103678934, 3.0], \"xaxis\": \"x\", \"y\": [-0.9950547536867305, -0.9948527669172019, -0.9946425522267051, -0.994423776297535, -0.9941960924629225, -0.9939591401852469, -0.993712544514928, -0.9934559155293734, -0.9931888477513459, -0.9929109195461022, -0.9926216924966457, -0.9923207107564234, -0.992007500378792, -0.9916815686225645, -0.9913424032329462, -0.9909894716971636, -0.9906222204740811, -0.9902400741971044, -0.9898424348496637, -0.9894286809125766, -0.9889981664825909, -0.9885502203614155, -0.9880841451145616, -0.9875992160993223, -0.9870946804612433, -0.9865697560984518, -0.9860236305932417, -0.9854554601103395, -0.9848643682613105, -0.9842494449346114, -0.9836097450908345, -0.9829442875227499, -0.9822520535798103, -0.9815319858568546, -0.9807829868468221, -0.9800039175573794, -0.9791935960914603, -0.9783507961918256, -0.9774742457498723, -0.9765626252790548, -0.9756145663534286, -0.9746286500119874, -0.9736034051296419, -0.9725373067558863, -0.9714287744224057, -0.970276170421113, -0.9690777980543531, -0.9678318998592871, -0.9665366558087639, -0.9651901814913084, -0.9637905262731981, -0.9623356714459788, -0.9608235283631639, -0.9592519365702975, -0.9576186619330226, -0.9559213947682872, -0.9541577479843528, -0.9523252552358308, -0.950421369100568, -0.9484434592858475, -0.9463888108720336, -0.9442546226025116, -0.9420380052295202, -0.93973597992627, -0.937345476776567, -0.9348633333540388, -0.9322862934039639, -0.9296110056416541, -0.9268340226823264, -0.9239518001184096, -0.9209606957612899, -0.9178569690655645, -0.9146367807549807, -0.91129619267035, -0.9078311678608592, -0.9042375709413338, -0.9005111687391469, -0.8966476312555784, -0.8926425329675369, -0.8884913544966132, -0.8841894846734503, -0.8797322230263696, -0.8751147827240607, -0.8703322940029194, -0.8653798081102724, -0.8602523017952435, -0.8549446823793725, -0.8494517934392571, -0.8437684211334437, -0.8378893012054976, -0.8318091266946153, -0.8255225563842759, -0.8190242240182181, -0.8123087483114577, -0.8053707437820843, -0.7982048324271617, -0.7908056562631862, -0.7831678907481722, -0.7752862590985365, -0.7671555475094944, -0.7587706212826381, -0.7501264418587388, -0.7412180847475635, -0.7320407583396266, -0.7225898235773113, -0.7128608144546854, -0.7028494593066384, -0.6925517028386885, -0.6819637288390039, -0.6710819835038989, -0.6599031992973586, -0.6484244192541062, -0.636643021624451, -0.6245567447477276, -0.6121637120297193, -0.5994624568881576, -0.586451947519378, -0.5731316113286531, -0.5595013588567878, -0.5455616070264638, -0.5313133015237221, -0.5167579381231105, -0.5018975827595883, -0.4867348901464721, -0.47127312073673044, -0.45551615582497623, -0.43946851058973274, -0.42313534488011584, -0.4065224715581034, -0.3896363622171569, -0.372484150110168, -0.3550736301345537, -0.3374132557397956, -0.3195121326427289, -0.3013800092583366, -0.28302726377850707, -0.2644648878579551, -0.2457044668950239, -0.22675815692505183, -0.2076386581750479, -0.18835918536017857, -0.16893343483458756, -0.14937554874089864, -0.1297000763339206, -0.1099219326840967, -0.09005635499465306, -0.0701188567927362, -0.050125180278640734, -0.03009124713814669, -0.01003310814059756, 0.010033108140598004, 0.030091247138147134, 0.05012518027864118, 0.07011885679273665, 0.09005635499465349, 0.1099219326840967, 0.1297000763339206, 0.14937554874089864, 0.16893343483458756, 0.18835918536017857, 0.2076386581750479, 0.22675815692505183, 0.2457044668950239, 0.2644648878579551, 0.28302726377850707, 0.3013800092583366, 0.3195121326427289, 0.3374132557397956, 0.3550736301345537, 0.372484150110168, 0.3896363622171569, 0.4065224715581034, 0.42313534488011584, 0.43946851058973274, 0.45551615582497623, 0.47127312073673044, 0.48673489014647253, 0.5018975827595886, 0.5167579381231109, 0.5313133015237225, 0.5455616070264643, 0.5595013588567881, 0.5731316113286534, 0.5864519475193785, 0.5994624568881579, 0.6121637120297196, 0.6245567447477279, 0.6366430216244513, 0.6484244192541062, 0.6599031992973586, 0.6710819835038989, 0.6819637288390039, 0.6925517028386885, 0.7028494593066384, 0.7128608144546854, 0.7225898235773113, 0.7320407583396266, 0.7412180847475635, 0.7501264418587388, 0.7587706212826381, 0.7671555475094944, 0.7752862590985367, 0.7831678907481722, 0.7908056562631864, 0.7982048324271617, 0.8053707437820844, 0.8123087483114577, 0.8190242240182182, 0.8255225563842759, 0.8318091266946155, 0.8378893012054976, 0.8437684211334439, 0.849451793439257, 0.8549446823793726, 0.8602523017952435, 0.8653798081102724, 0.8703322940029194, 0.8751147827240607, 0.8797322230263696, 0.8841894846734503, 0.8884913544966131, 0.8926425329675369, 0.8966476312555783, 0.9005111687391469, 0.904237570941334, 0.9078311678608592, 0.9112961926703501, 0.9146367807549807, 0.9178569690655645, 0.9209606957612899, 0.9239518001184097, 0.9268340226823264, 0.9296110056416542, 0.9322862934039639, 0.9348633333540389, 0.937345476776567, 0.93973597992627, 0.9420380052295202, 0.9442546226025116, 0.9463888108720336, 0.9484434592858476, 0.950421369100568, 0.9523252552358308, 0.9541577479843528, 0.9559213947682872, 0.9576186619330226, 0.9592519365702975, 0.9608235283631639, 0.9623356714459789, 0.9637905262731981, 0.9651901814913084, 0.9665366558087639, 0.9678318998592871, 0.9690777980543531, 0.970276170421113, 0.9714287744224057, 0.9725373067558863, 0.9736034051296419, 0.9746286500119874, 0.9756145663534287, 0.9765626252790548, 0.9774742457498723, 0.9783507961918256, 0.9791935960914604, 0.9800039175573794, 0.9807829868468221, 0.9815319858568546, 0.9822520535798103, 0.9829442875227499, 0.9836097450908345, 0.9842494449346114, 0.9848643682613105, 0.9854554601103395, 0.9860236305932417, 0.9865697560984518, 0.9870946804612433, 0.9875992160993223, 0.9880841451145616, 0.9885502203614155, 0.9889981664825909, 0.9894286809125766, 0.9898424348496637, 0.9902400741971044, 0.9906222204740811, 0.9909894716971636, 0.9913424032329462, 0.9916815686225644, 0.992007500378792, 0.9923207107564234, 0.9926216924966457, 0.9929109195461022, 0.9931888477513459, 0.9934559155293734, 0.993712544514928, 0.9939591401852469, 0.9941960924629225, 0.994423776297535, 0.9946425522267051, 0.9948527669172019, 0.9950547536867305], \"yaxis\": \"y\"}],\n",
              "                        {\"height\": 400, \"legend\": {\"tracegroupgap\": 0}, \"margin\": {\"t\": 60}, \"template\": {\"data\": {\"bar\": [{\"error_x\": {\"color\": \"#2a3f5f\"}, \"error_y\": {\"color\": \"#2a3f5f\"}, \"marker\": {\"line\": {\"color\": \"#E5ECF6\", \"width\": 0.5}}, \"type\": \"bar\"}], \"barpolar\": [{\"marker\": {\"line\": {\"color\": \"#E5ECF6\", \"width\": 0.5}}, \"type\": \"barpolar\"}], \"carpet\": [{\"aaxis\": {\"endlinecolor\": \"#2a3f5f\", \"gridcolor\": \"white\", \"linecolor\": \"white\", \"minorgridcolor\": \"white\", \"startlinecolor\": \"#2a3f5f\"}, \"baxis\": {\"endlinecolor\": \"#2a3f5f\", \"gridcolor\": \"white\", \"linecolor\": \"white\", \"minorgridcolor\": \"white\", \"startlinecolor\": \"#2a3f5f\"}, \"type\": \"carpet\"}], \"choropleth\": [{\"colorbar\": {\"outlinewidth\": 0, \"ticks\": \"\"}, \"type\": \"choropleth\"}], \"contour\": [{\"colorbar\": {\"outlinewidth\": 0, \"ticks\": \"\"}, \"colorscale\": [[0.0, \"#0d0887\"], [0.1111111111111111, \"#46039f\"], [0.2222222222222222, \"#7201a8\"], [0.3333333333333333, \"#9c179e\"], [0.4444444444444444, \"#bd3786\"], [0.5555555555555556, \"#d8576b\"], [0.6666666666666666, \"#ed7953\"], [0.7777777777777778, \"#fb9f3a\"], [0.8888888888888888, \"#fdca26\"], [1.0, \"#f0f921\"]], \"type\": \"contour\"}], \"contourcarpet\": [{\"colorbar\": {\"outlinewidth\": 0, \"ticks\": \"\"}, \"type\": \"contourcarpet\"}], \"heatmap\": [{\"colorbar\": {\"outlinewidth\": 0, \"ticks\": \"\"}, \"colorscale\": [[0.0, \"#0d0887\"], [0.1111111111111111, \"#46039f\"], [0.2222222222222222, \"#7201a8\"], [0.3333333333333333, \"#9c179e\"], [0.4444444444444444, \"#bd3786\"], [0.5555555555555556, \"#d8576b\"], [0.6666666666666666, \"#ed7953\"], [0.7777777777777778, \"#fb9f3a\"], [0.8888888888888888, \"#fdca26\"], [1.0, \"#f0f921\"]], \"type\": \"heatmap\"}], \"heatmapgl\": [{\"colorbar\": {\"outlinewidth\": 0, \"ticks\": \"\"}, \"colorscale\": [[0.0, \"#0d0887\"], [0.1111111111111111, \"#46039f\"], [0.2222222222222222, \"#7201a8\"], [0.3333333333333333, \"#9c179e\"], [0.4444444444444444, \"#bd3786\"], [0.5555555555555556, \"#d8576b\"], [0.6666666666666666, \"#ed7953\"], [0.7777777777777778, \"#fb9f3a\"], [0.8888888888888888, \"#fdca26\"], [1.0, \"#f0f921\"]], \"type\": \"heatmapgl\"}], \"histogram\": [{\"marker\": {\"colorbar\": {\"outlinewidth\": 0, \"ticks\": \"\"}}, \"type\": \"histogram\"}], \"histogram2d\": [{\"colorbar\": {\"outlinewidth\": 0, \"ticks\": \"\"}, \"colorscale\": [[0.0, \"#0d0887\"], [0.1111111111111111, \"#46039f\"], [0.2222222222222222, \"#7201a8\"], [0.3333333333333333, \"#9c179e\"], [0.4444444444444444, \"#bd3786\"], [0.5555555555555556, \"#d8576b\"], [0.6666666666666666, \"#ed7953\"], [0.7777777777777778, \"#fb9f3a\"], [0.8888888888888888, \"#fdca26\"], [1.0, \"#f0f921\"]], \"type\": \"histogram2d\"}], \"histogram2dcontour\": [{\"colorbar\": {\"outlinewidth\": 0, \"ticks\": \"\"}, \"colorscale\": [[0.0, \"#0d0887\"], [0.1111111111111111, \"#46039f\"], [0.2222222222222222, \"#7201a8\"], [0.3333333333333333, \"#9c179e\"], [0.4444444444444444, \"#bd3786\"], [0.5555555555555556, \"#d8576b\"], [0.6666666666666666, \"#ed7953\"], [0.7777777777777778, \"#fb9f3a\"], [0.8888888888888888, \"#fdca26\"], [1.0, \"#f0f921\"]], \"type\": \"histogram2dcontour\"}], \"mesh3d\": [{\"colorbar\": {\"outlinewidth\": 0, \"ticks\": \"\"}, \"type\": \"mesh3d\"}], \"parcoords\": [{\"line\": {\"colorbar\": {\"outlinewidth\": 0, \"ticks\": \"\"}}, \"type\": \"parcoords\"}], \"scatter\": [{\"marker\": {\"colorbar\": {\"outlinewidth\": 0, \"ticks\": \"\"}}, \"type\": \"scatter\"}], \"scatter3d\": [{\"line\": {\"colorbar\": {\"outlinewidth\": 0, \"ticks\": \"\"}}, \"marker\": {\"colorbar\": {\"outlinewidth\": 0, \"ticks\": \"\"}}, \"type\": \"scatter3d\"}], \"scattercarpet\": [{\"marker\": {\"colorbar\": {\"outlinewidth\": 0, \"ticks\": \"\"}}, \"type\": \"scattercarpet\"}], \"scattergeo\": [{\"marker\": {\"colorbar\": {\"outlinewidth\": 0, \"ticks\": \"\"}}, \"type\": \"scattergeo\"}], \"scattergl\": [{\"marker\": {\"colorbar\": {\"outlinewidth\": 0, \"ticks\": \"\"}}, \"type\": \"scattergl\"}], \"scattermapbox\": [{\"marker\": {\"colorbar\": {\"outlinewidth\": 0, \"ticks\": \"\"}}, \"type\": \"scattermapbox\"}], \"scatterpolar\": [{\"marker\": {\"colorbar\": {\"outlinewidth\": 0, \"ticks\": \"\"}}, \"type\": \"scatterpolar\"}], \"scatterpolargl\": [{\"marker\": {\"colorbar\": {\"outlinewidth\": 0, \"ticks\": \"\"}}, \"type\": \"scatterpolargl\"}], \"scatterternary\": [{\"marker\": {\"colorbar\": {\"outlinewidth\": 0, \"ticks\": \"\"}}, \"type\": \"scatterternary\"}], \"surface\": [{\"colorbar\": {\"outlinewidth\": 0, \"ticks\": \"\"}, \"colorscale\": [[0.0, \"#0d0887\"], [0.1111111111111111, \"#46039f\"], [0.2222222222222222, \"#7201a8\"], [0.3333333333333333, \"#9c179e\"], [0.4444444444444444, \"#bd3786\"], [0.5555555555555556, \"#d8576b\"], [0.6666666666666666, \"#ed7953\"], [0.7777777777777778, \"#fb9f3a\"], [0.8888888888888888, \"#fdca26\"], [1.0, \"#f0f921\"]], \"type\": \"surface\"}], \"table\": [{\"cells\": {\"fill\": {\"color\": \"#EBF0F8\"}, \"line\": {\"color\": \"white\"}}, \"header\": {\"fill\": {\"color\": \"#C8D4E3\"}, \"line\": {\"color\": \"white\"}}, \"type\": \"table\"}]}, \"layout\": {\"annotationdefaults\": {\"arrowcolor\": \"#2a3f5f\", \"arrowhead\": 0, \"arrowwidth\": 1}, \"colorscale\": {\"diverging\": [[0, \"#8e0152\"], [0.1, \"#c51b7d\"], [0.2, \"#de77ae\"], [0.3, \"#f1b6da\"], [0.4, \"#fde0ef\"], [0.5, \"#f7f7f7\"], [0.6, \"#e6f5d0\"], [0.7, \"#b8e186\"], [0.8, \"#7fbc41\"], [0.9, \"#4d9221\"], [1, \"#276419\"]], \"sequential\": [[0.0, \"#0d0887\"], [0.1111111111111111, \"#46039f\"], [0.2222222222222222, \"#7201a8\"], [0.3333333333333333, \"#9c179e\"], [0.4444444444444444, \"#bd3786\"], [0.5555555555555556, \"#d8576b\"], [0.6666666666666666, \"#ed7953\"], [0.7777777777777778, \"#fb9f3a\"], [0.8888888888888888, \"#fdca26\"], [1.0, \"#f0f921\"]], \"sequentialminus\": [[0.0, \"#0d0887\"], [0.1111111111111111, \"#46039f\"], [0.2222222222222222, \"#7201a8\"], [0.3333333333333333, \"#9c179e\"], [0.4444444444444444, \"#bd3786\"], [0.5555555555555556, \"#d8576b\"], [0.6666666666666666, \"#ed7953\"], [0.7777777777777778, \"#fb9f3a\"], [0.8888888888888888, \"#fdca26\"], [1.0, \"#f0f921\"]]}, \"colorway\": [\"#636efa\", \"#EF553B\", \"#00cc96\", \"#ab63fa\", \"#FFA15A\", \"#19d3f3\", \"#FF6692\", \"#B6E880\", \"#FF97FF\", \"#FECB52\"], \"font\": {\"color\": \"#2a3f5f\"}, \"geo\": {\"bgcolor\": \"white\", \"lakecolor\": \"white\", \"landcolor\": \"#E5ECF6\", \"showlakes\": true, \"showland\": true, \"subunitcolor\": \"white\"}, \"hoverlabel\": {\"align\": \"left\"}, \"hovermode\": \"closest\", \"mapbox\": {\"style\": \"light\"}, \"paper_bgcolor\": \"white\", \"plot_bgcolor\": \"#E5ECF6\", \"polar\": {\"angularaxis\": {\"gridcolor\": \"white\", \"linecolor\": \"white\", \"ticks\": \"\"}, \"bgcolor\": \"#E5ECF6\", \"radialaxis\": {\"gridcolor\": \"white\", \"linecolor\": \"white\", \"ticks\": \"\"}}, \"scene\": {\"xaxis\": {\"backgroundcolor\": \"#E5ECF6\", \"gridcolor\": \"white\", \"gridwidth\": 2, \"linecolor\": \"white\", \"showbackground\": true, \"ticks\": \"\", \"zerolinecolor\": \"white\"}, \"yaxis\": {\"backgroundcolor\": \"#E5ECF6\", \"gridcolor\": \"white\", \"gridwidth\": 2, \"linecolor\": \"white\", \"showbackground\": true, \"ticks\": \"\", \"zerolinecolor\": \"white\"}, \"zaxis\": {\"backgroundcolor\": \"#E5ECF6\", \"gridcolor\": \"white\", \"gridwidth\": 2, \"linecolor\": \"white\", \"showbackground\": true, \"ticks\": \"\", \"zerolinecolor\": \"white\"}}, \"shapedefaults\": {\"line\": {\"color\": \"#2a3f5f\"}}, \"ternary\": {\"aaxis\": {\"gridcolor\": \"white\", \"linecolor\": \"white\", \"ticks\": \"\"}, \"baxis\": {\"gridcolor\": \"white\", \"linecolor\": \"white\", \"ticks\": \"\"}, \"bgcolor\": \"#E5ECF6\", \"caxis\": {\"gridcolor\": \"white\", \"linecolor\": \"white\", \"ticks\": \"\"}}, \"title\": {\"x\": 0.05}, \"xaxis\": {\"automargin\": true, \"gridcolor\": \"white\", \"linecolor\": \"white\", \"ticks\": \"\", \"zerolinecolor\": \"white\", \"zerolinewidth\": 2}, \"yaxis\": {\"automargin\": true, \"gridcolor\": \"white\", \"linecolor\": \"white\", \"ticks\": \"\", \"zerolinecolor\": \"white\", \"zerolinewidth\": 2}}}, \"width\": 500, \"xaxis\": {\"anchor\": \"y\", \"domain\": [0.0, 0.98], \"title\": {\"text\": \"data\"}}, \"yaxis\": {\"anchor\": \"x\", \"domain\": [0.0, 1.0], \"range\": [-1.5, 1.5], \"title\": {\"text\": \"tanh\"}}},\n",
              "                        {\"responsive\": true}\n",
              "                    ).then(function(){\n",
              "                            \n",
              "var gd = document.getElementById('8cf5904a-a316-477e-8f03-43cafc28b171');\n",
              "var x = new MutationObserver(function (mutations, observer) {{\n",
              "        var display = window.getComputedStyle(gd).display;\n",
              "        if (!display || display === 'none') {{\n",
              "            console.log([gd, 'removed!']);\n",
              "            Plotly.purge(gd);\n",
              "            observer.disconnect();\n",
              "        }}\n",
              "}});\n",
              "\n",
              "// Listen for the removal of the full notebook cells\n",
              "var notebookContainer = gd.closest('#notebook-container');\n",
              "if (notebookContainer) {{\n",
              "    x.observe(notebookContainer, {childList: true});\n",
              "}}\n",
              "\n",
              "// Listen for the clearing of the current output cell\n",
              "var outputEl = gd.closest('.output');\n",
              "if (outputEl) {{\n",
              "    x.observe(outputEl, {childList: true});\n",
              "}}\n",
              "\n",
              "                        })\n",
              "                };\n",
              "                \n",
              "            </script>\n",
              "        </div>\n",
              "</body>\n",
              "</html>"
            ]
          },
          "metadata": {
            "tags": []
          }
        }
      ]
    },
    {
      "cell_type": "code",
      "metadata": {
        "id": "hUCtW1HMgjkV",
        "outputId": "00bd138b-40c6-4712-b66f-e58396c5bcc7",
        "colab": {
          "base_uri": "https://localhost:8080/",
          "height": 223
        }
      },
      "source": [
        "model = Sequential()\n",
        "model.add(Dense(units=8, activation='relu', input_shape=(10,)))\n",
        "model.add(Dense(units=1, activation='sigmoid'))\n",
        "model.summary()"
      ],
      "execution_count": null,
      "outputs": [
        {
          "output_type": "stream",
          "text": [
            "Model: \"sequential_1\"\n",
            "_________________________________________________________________\n",
            "Layer (type)                 Output Shape              Param #   \n",
            "=================================================================\n",
            "dense_2 (Dense)              (None, 8)                 88        \n",
            "_________________________________________________________________\n",
            "dense_3 (Dense)              (None, 1)                 9         \n",
            "=================================================================\n",
            "Total params: 97\n",
            "Trainable params: 97\n",
            "Non-trainable params: 0\n",
            "_________________________________________________________________\n"
          ],
          "name": "stdout"
        }
      ]
    },
    {
      "cell_type": "markdown",
      "metadata": {
        "id": "NNWU1zbwimbx"
      },
      "source": [
        "### <a name='a2'></a>Kompilacja modelu\n",
        "Przed rozpoczęciem trenowania sieci należy odpowiednio skonfigurować proces uczenia. W tym kroku określamy:\n",
        "* rodzaj optymalizatora ([Keras - Optymalizatory](https://keras.io/optimizers/))\n",
        "* funkcję straty ([Keras - Funkcje Straty](https://keras.io/losses/))\n",
        "* metryki, które będziemy obserwować podczas trenowania sieci ([Keras - Metryki](https://keras.io/metrics/))"
      ]
    },
    {
      "cell_type": "code",
      "metadata": {
        "id": "oBRtQd7diI0e"
      },
      "source": [
        "# klasyfikacja binarna\n",
        "model.compile(optimizer='rmsprop',\n",
        "              loss='binary_crossentropy',\n",
        "              metrics=['accuracy'])\n",
        "\n",
        "# klasyfikacja wieloklasowa\n",
        "model.compile(optimizer='rmsprop',\n",
        "              loss='categorical_crossentropy',\n",
        "              metrics=['accuracy'])\n",
        "\n",
        "# regresja\n",
        "model.compile(optimizer='rmsprop',\n",
        "              loss='mse')"
      ],
      "execution_count": null,
      "outputs": []
    },
    {
      "cell_type": "markdown",
      "metadata": {
        "id": "TqsJw4K-knNP"
      },
      "source": [
        "### <a name='a3'></a>Trenowanie modelu\n",
        "Za dane wejściowe do modelu należy przekazać Numpy arrays:\n",
        "* **epochs** - krotność przejścia danych przez sieć w procesie uczenia\n",
        "* **batch_size** - rozmiar wsadu po którym następuje aktualizacja wag\n",
        "* **validation_split** - część danych treningowych, które zostaną wykorzystane jako zbiór walidacyjny\n",
        "* **validation_data** - (x_val, y_val) - dane wykorzystane do walidacji modelu"
      ]
    },
    {
      "cell_type": "code",
      "metadata": {
        "id": "HBn1AzzGkS2h"
      },
      "source": [
        "# model.fit(data, labels, epochs=10, batch_size=32)\n",
        "# model.fit(data, labels, epochs=10, batch_size=32, validation_split=0.2)\n",
        "# model.fit(data, labels, epochs=10, batch_size=32, validation_data=(x_val, y_val))"
      ],
      "execution_count": null,
      "outputs": []
    },
    {
      "cell_type": "markdown",
      "metadata": {
        "id": "8fmOZzNywvx6"
      },
      "source": [
        "### <a name='a4'></a> Przykład - klasyfikacja binarna"
      ]
    },
    {
      "cell_type": "code",
      "metadata": {
        "id": "gELP58XdwKSj",
        "outputId": "7cd16064-051e-484c-87eb-8be5be16db8f",
        "colab": {
          "base_uri": "https://localhost:8080/",
          "height": 51
        }
      },
      "source": [
        "data = np.random.randn(10000, 150)\n",
        "labels = np.random.randint(2, size=(10000, 1))\n",
        "\n",
        "print(data.shape)\n",
        "print(labels.shape)"
      ],
      "execution_count": null,
      "outputs": [
        {
          "output_type": "stream",
          "text": [
            "(10000, 150)\n",
            "(10000, 1)\n"
          ],
          "name": "stdout"
        }
      ]
    },
    {
      "cell_type": "code",
      "metadata": {
        "id": "B_ItRZ5EwcdR"
      },
      "source": [
        "data[:3]"
      ],
      "execution_count": null,
      "outputs": []
    },
    {
      "cell_type": "code",
      "metadata": {
        "id": "2AKkBXaZwmNq",
        "outputId": "3dcbc369-0763-43e9-9b61-22971066f835",
        "colab": {
          "base_uri": "https://localhost:8080/",
          "height": 188
        }
      },
      "source": [
        "labels[:10]"
      ],
      "execution_count": null,
      "outputs": [
        {
          "output_type": "execute_result",
          "data": {
            "text/plain": [
              "array([[0],\n",
              "       [1],\n",
              "       [1],\n",
              "       [1],\n",
              "       [0],\n",
              "       [1],\n",
              "       [1],\n",
              "       [1],\n",
              "       [1],\n",
              "       [1]])"
            ]
          },
          "metadata": {
            "tags": []
          },
          "execution_count": 17
        }
      ]
    },
    {
      "cell_type": "code",
      "metadata": {
        "id": "3YmwwLjZwpvE",
        "outputId": "c12833a7-5b09-4296-c494-407f012a96f8",
        "colab": {
          "base_uri": "https://localhost:8080/",
          "height": 737
        }
      },
      "source": [
        "model = Sequential()\n",
        "model.add(Dense(units=32, activation='relu', input_shape=(150,)))\n",
        "model.add(Dense(1, activation='sigmoid'))\n",
        "\n",
        "model.compile(optimizer='rmsprop',\n",
        "              loss='binary_crossentropy',\n",
        "              metrics=['accuracy'])\n",
        "\n",
        "model.fit(data, labels, epochs=20)"
      ],
      "execution_count": null,
      "outputs": [
        {
          "output_type": "stream",
          "text": [
            "Train on 10000 samples\n",
            "Epoch 1/20\n",
            "10000/10000 [==============================] - 2s 177us/sample - loss: 0.7472 - accuracy: 0.4958\n",
            "Epoch 2/20\n",
            "10000/10000 [==============================] - 1s 53us/sample - loss: 0.6961 - accuracy: 0.5396\n",
            "Epoch 3/20\n",
            "10000/10000 [==============================] - 1s 54us/sample - loss: 0.6786 - accuracy: 0.5693\n",
            "Epoch 4/20\n",
            "10000/10000 [==============================] - 1s 52us/sample - loss: 0.6652 - accuracy: 0.5936\n",
            "Epoch 5/20\n",
            "10000/10000 [==============================] - 1s 53us/sample - loss: 0.6526 - accuracy: 0.6183\n",
            "Epoch 6/20\n",
            "10000/10000 [==============================] - 1s 54us/sample - loss: 0.6393 - accuracy: 0.6360\n",
            "Epoch 7/20\n",
            "10000/10000 [==============================] - 1s 53us/sample - loss: 0.6249 - accuracy: 0.6566\n",
            "Epoch 8/20\n",
            "10000/10000 [==============================] - 1s 53us/sample - loss: 0.6113 - accuracy: 0.6743\n",
            "Epoch 9/20\n",
            "10000/10000 [==============================] - 1s 53us/sample - loss: 0.5959 - accuracy: 0.6879\n",
            "Epoch 10/20\n",
            "10000/10000 [==============================] - 1s 54us/sample - loss: 0.5826 - accuracy: 0.7014\n",
            "Epoch 11/20\n",
            "10000/10000 [==============================] - 1s 53us/sample - loss: 0.5706 - accuracy: 0.7119\n",
            "Epoch 12/20\n",
            "10000/10000 [==============================] - 1s 53us/sample - loss: 0.5583 - accuracy: 0.7214\n",
            "Epoch 13/20\n",
            "10000/10000 [==============================] - 1s 53us/sample - loss: 0.5462 - accuracy: 0.7315\n",
            "Epoch 14/20\n",
            "10000/10000 [==============================] - 1s 51us/sample - loss: 0.5351 - accuracy: 0.7362\n",
            "Epoch 15/20\n",
            "10000/10000 [==============================] - 1s 52us/sample - loss: 0.5247 - accuracy: 0.7435\n",
            "Epoch 16/20\n",
            "10000/10000 [==============================] - 1s 52us/sample - loss: 0.5144 - accuracy: 0.7504\n",
            "Epoch 17/20\n",
            "10000/10000 [==============================] - 1s 54us/sample - loss: 0.5065 - accuracy: 0.7529\n",
            "Epoch 18/20\n",
            "10000/10000 [==============================] - 1s 51us/sample - loss: 0.4965 - accuracy: 0.7636\n",
            "Epoch 19/20\n",
            "10000/10000 [==============================] - 1s 53us/sample - loss: 0.4897 - accuracy: 0.7659\n",
            "Epoch 20/20\n",
            "10000/10000 [==============================] - 1s 53us/sample - loss: 0.4811 - accuracy: 0.7702\n"
          ],
          "name": "stdout"
        },
        {
          "output_type": "execute_result",
          "data": {
            "text/plain": [
              "<tensorflow.python.keras.callbacks.History at 0x7f5f2b7dca90>"
            ]
          },
          "metadata": {
            "tags": []
          },
          "execution_count": 18
        }
      ]
    },
    {
      "cell_type": "code",
      "metadata": {
        "id": "5X_mtwLfy2d9",
        "outputId": "f6e950af-f5ae-474d-d0ab-5eb29d70cabd",
        "colab": {
          "base_uri": "https://localhost:8080/",
          "height": 737
        }
      },
      "source": [
        "model = Sequential()\n",
        "model.add(Dense(units=32, activation='relu', input_shape=(150,)))\n",
        "model.add(Dense(1, activation='sigmoid'))\n",
        "\n",
        "model.compile(optimizer='rmsprop',\n",
        "              loss='binary_crossentropy',\n",
        "              metrics=['accuracy'])\n",
        "\n",
        "model.fit(data, labels, epochs=20, batch_size=64)"
      ],
      "execution_count": null,
      "outputs": [
        {
          "output_type": "stream",
          "text": [
            "Train on 10000 samples\n",
            "Epoch 1/20\n",
            "10000/10000 [==============================] - 1s 70us/sample - loss: 0.7522 - accuracy: 0.5069\n",
            "Epoch 2/20\n",
            "10000/10000 [==============================] - 0s 28us/sample - loss: 0.7010 - accuracy: 0.5396\n",
            "Epoch 3/20\n",
            "10000/10000 [==============================] - 0s 28us/sample - loss: 0.6834 - accuracy: 0.5678\n",
            "Epoch 4/20\n",
            "10000/10000 [==============================] - 0s 28us/sample - loss: 0.6711 - accuracy: 0.5866\n",
            "Epoch 5/20\n",
            "10000/10000 [==============================] - 0s 29us/sample - loss: 0.6596 - accuracy: 0.6063\n",
            "Epoch 6/20\n",
            "10000/10000 [==============================] - 0s 27us/sample - loss: 0.6489 - accuracy: 0.6277\n",
            "Epoch 7/20\n",
            "10000/10000 [==============================] - 0s 29us/sample - loss: 0.6382 - accuracy: 0.6488\n",
            "Epoch 8/20\n",
            "10000/10000 [==============================] - 0s 28us/sample - loss: 0.6272 - accuracy: 0.6633\n",
            "Epoch 9/20\n",
            "10000/10000 [==============================] - 0s 27us/sample - loss: 0.6161 - accuracy: 0.6773\n",
            "Epoch 10/20\n",
            "10000/10000 [==============================] - 0s 27us/sample - loss: 0.6053 - accuracy: 0.6835\n",
            "Epoch 11/20\n",
            "10000/10000 [==============================] - 0s 27us/sample - loss: 0.5942 - accuracy: 0.6947\n",
            "Epoch 12/20\n",
            "10000/10000 [==============================] - 0s 27us/sample - loss: 0.5834 - accuracy: 0.7045\n",
            "Epoch 13/20\n",
            "10000/10000 [==============================] - 0s 28us/sample - loss: 0.5730 - accuracy: 0.7143\n",
            "Epoch 14/20\n",
            "10000/10000 [==============================] - 0s 29us/sample - loss: 0.5625 - accuracy: 0.7236\n",
            "Epoch 15/20\n",
            "10000/10000 [==============================] - 0s 29us/sample - loss: 0.5526 - accuracy: 0.7324\n",
            "Epoch 16/20\n",
            "10000/10000 [==============================] - 0s 27us/sample - loss: 0.5430 - accuracy: 0.7402\n",
            "Epoch 17/20\n",
            "10000/10000 [==============================] - 0s 27us/sample - loss: 0.5334 - accuracy: 0.7491\n",
            "Epoch 18/20\n",
            "10000/10000 [==============================] - 0s 29us/sample - loss: 0.5253 - accuracy: 0.7520\n",
            "Epoch 19/20\n",
            "10000/10000 [==============================] - 0s 28us/sample - loss: 0.5168 - accuracy: 0.7566\n",
            "Epoch 20/20\n",
            "10000/10000 [==============================] - 0s 26us/sample - loss: 0.5081 - accuracy: 0.7629\n"
          ],
          "name": "stdout"
        },
        {
          "output_type": "execute_result",
          "data": {
            "text/plain": [
              "<tensorflow.python.keras.callbacks.History at 0x7f5f2c240d68>"
            ]
          },
          "metadata": {
            "tags": []
          },
          "execution_count": 19
        }
      ]
    },
    {
      "cell_type": "code",
      "metadata": {
        "id": "xj5leE1dxK0-",
        "outputId": "642f9906-4ee1-4bc2-d5f3-779ca0178d61",
        "colab": {
          "base_uri": "https://localhost:8080/",
          "height": 757
        }
      },
      "source": [
        "model = Sequential()\n",
        "model.add(Dense(units=32, activation='relu', input_shape=(150,)))\n",
        "model.add(Dense(1, activation='sigmoid'))\n",
        "\n",
        "model.compile(optimizer='rmsprop',\n",
        "              loss='binary_crossentropy',\n",
        "              metrics=['accuracy'])\n",
        "\n",
        "model.fit(data, labels, epochs=20, batch_size=32, validation_split=0.2)"
      ],
      "execution_count": null,
      "outputs": [
        {
          "output_type": "stream",
          "text": [
            "Train on 8000 samples, validate on 2000 samples\n",
            "Epoch 1/20\n",
            "8000/8000 [==============================] - 1s 134us/sample - loss: 0.7480 - accuracy: 0.5017 - val_loss: 0.7293 - val_accuracy: 0.4955\n",
            "Epoch 2/20\n",
            "8000/8000 [==============================] - 1s 64us/sample - loss: 0.6948 - accuracy: 0.5371 - val_loss: 0.7210 - val_accuracy: 0.5075\n",
            "Epoch 3/20\n",
            "8000/8000 [==============================] - 0s 60us/sample - loss: 0.6746 - accuracy: 0.5782 - val_loss: 0.7222 - val_accuracy: 0.5010\n",
            "Epoch 4/20\n",
            "8000/8000 [==============================] - 0s 62us/sample - loss: 0.6584 - accuracy: 0.6061 - val_loss: 0.7229 - val_accuracy: 0.5110\n",
            "Epoch 5/20\n",
            "8000/8000 [==============================] - 0s 59us/sample - loss: 0.6439 - accuracy: 0.6338 - val_loss: 0.7271 - val_accuracy: 0.5080\n",
            "Epoch 6/20\n",
            "8000/8000 [==============================] - 0s 61us/sample - loss: 0.6284 - accuracy: 0.6509 - val_loss: 0.7354 - val_accuracy: 0.5020\n",
            "Epoch 7/20\n",
            "8000/8000 [==============================] - 0s 62us/sample - loss: 0.6135 - accuracy: 0.6747 - val_loss: 0.7443 - val_accuracy: 0.5030\n",
            "Epoch 8/20\n",
            "8000/8000 [==============================] - 0s 62us/sample - loss: 0.5983 - accuracy: 0.6899 - val_loss: 0.7522 - val_accuracy: 0.5000\n",
            "Epoch 9/20\n",
            "8000/8000 [==============================] - 1s 64us/sample - loss: 0.5823 - accuracy: 0.7030 - val_loss: 0.7602 - val_accuracy: 0.5020\n",
            "Epoch 10/20\n",
            "8000/8000 [==============================] - 1s 63us/sample - loss: 0.5675 - accuracy: 0.7190 - val_loss: 0.7721 - val_accuracy: 0.4980\n",
            "Epoch 11/20\n",
            "8000/8000 [==============================] - 0s 60us/sample - loss: 0.5521 - accuracy: 0.7290 - val_loss: 0.7881 - val_accuracy: 0.4990\n",
            "Epoch 12/20\n",
            "8000/8000 [==============================] - 1s 66us/sample - loss: 0.5391 - accuracy: 0.7399 - val_loss: 0.8008 - val_accuracy: 0.4950\n",
            "Epoch 13/20\n",
            "8000/8000 [==============================] - 0s 60us/sample - loss: 0.5252 - accuracy: 0.7471 - val_loss: 0.8167 - val_accuracy: 0.5030\n",
            "Epoch 14/20\n",
            "8000/8000 [==============================] - 0s 61us/sample - loss: 0.5123 - accuracy: 0.7589 - val_loss: 0.8374 - val_accuracy: 0.5020\n",
            "Epoch 15/20\n",
            "8000/8000 [==============================] - 1s 63us/sample - loss: 0.5009 - accuracy: 0.7703 - val_loss: 0.8576 - val_accuracy: 0.5010\n",
            "Epoch 16/20\n",
            "8000/8000 [==============================] - 1s 63us/sample - loss: 0.4890 - accuracy: 0.7709 - val_loss: 0.8706 - val_accuracy: 0.5000\n",
            "Epoch 17/20\n",
            "8000/8000 [==============================] - 1s 64us/sample - loss: 0.4777 - accuracy: 0.7826 - val_loss: 0.8911 - val_accuracy: 0.5040\n",
            "Epoch 18/20\n",
            "8000/8000 [==============================] - 1s 65us/sample - loss: 0.4678 - accuracy: 0.7883 - val_loss: 0.9065 - val_accuracy: 0.4925\n",
            "Epoch 19/20\n",
            "8000/8000 [==============================] - 1s 64us/sample - loss: 0.4575 - accuracy: 0.7947 - val_loss: 0.9220 - val_accuracy: 0.4970\n",
            "Epoch 20/20\n",
            "8000/8000 [==============================] - 1s 64us/sample - loss: 0.4465 - accuracy: 0.8031 - val_loss: 0.9449 - val_accuracy: 0.4965\n"
          ],
          "name": "stdout"
        },
        {
          "output_type": "execute_result",
          "data": {
            "text/plain": [
              "<tensorflow.python.keras.callbacks.History at 0x7f5f28285b38>"
            ]
          },
          "metadata": {
            "tags": []
          },
          "execution_count": 20
        }
      ]
    },
    {
      "cell_type": "code",
      "metadata": {
        "id": "suJlatlYzQOD"
      },
      "source": [
        "model = Sequential()\n",
        "model.add(Dense(units=32, activation='relu', input_shape=(150,)))\n",
        "model.add(Dense(1, activation='sigmoid'))\n",
        "\n",
        "model.compile(optimizer='rmsprop',\n",
        "              loss='binary_crossentropy',\n",
        "              metrics=['accuracy'])\n",
        "\n",
        "history = model.fit(data, labels, epochs=20, batch_size=32, validation_split=0.2, verbose=0)"
      ],
      "execution_count": null,
      "outputs": []
    },
    {
      "cell_type": "code",
      "metadata": {
        "id": "InFcS0sgzkf6",
        "outputId": "012d4c92-c5eb-4373-fd72-2fa7fb24b7bd",
        "colab": {
          "base_uri": "https://localhost:8080/",
          "height": 34
        }
      },
      "source": [
        "metrics = history.history\n",
        "metrics.keys()"
      ],
      "execution_count": null,
      "outputs": [
        {
          "output_type": "execute_result",
          "data": {
            "text/plain": [
              "dict_keys(['loss', 'accuracy', 'val_loss', 'val_accuracy'])"
            ]
          },
          "metadata": {
            "tags": []
          },
          "execution_count": 23
        }
      ]
    },
    {
      "cell_type": "code",
      "metadata": {
        "id": "d9bUtGmXzzoY",
        "outputId": "4629fd25-7708-4adf-fc41-24321a8538c3",
        "colab": {
          "base_uri": "https://localhost:8080/",
          "height": 740
        }
      },
      "source": [
        "model = Sequential()\n",
        "model.add(Dense(units=32, activation='relu', input_shape=(150,)))\n",
        "model.add(Dense(1, activation='sigmoid'))\n",
        "\n",
        "model.compile(optimizer='rmsprop',\n",
        "              loss='binary_crossentropy',\n",
        "              metrics=['accuracy'])\n",
        "\n",
        "history = model.fit(data, labels, epochs=20, batch_size=32, validation_split=0.2, verbose=1)"
      ],
      "execution_count": null,
      "outputs": [
        {
          "output_type": "stream",
          "text": [
            "Train on 8000 samples, validate on 2000 samples\n",
            "Epoch 1/20\n",
            "8000/8000 [==============================] - 1s 115us/sample - loss: 0.7533 - accuracy: 0.4941 - val_loss: 0.7171 - val_accuracy: 0.5040\n",
            "Epoch 2/20\n",
            "8000/8000 [==============================] - 0s 61us/sample - loss: 0.6981 - accuracy: 0.5371 - val_loss: 0.7145 - val_accuracy: 0.4970\n",
            "Epoch 3/20\n",
            "8000/8000 [==============================] - 1s 65us/sample - loss: 0.6795 - accuracy: 0.5658 - val_loss: 0.7145 - val_accuracy: 0.5035\n",
            "Epoch 4/20\n",
            "8000/8000 [==============================] - 0s 60us/sample - loss: 0.6642 - accuracy: 0.5996 - val_loss: 0.7204 - val_accuracy: 0.4975\n",
            "Epoch 5/20\n",
            "8000/8000 [==============================] - 0s 61us/sample - loss: 0.6499 - accuracy: 0.6223 - val_loss: 0.7246 - val_accuracy: 0.4940\n",
            "Epoch 6/20\n",
            "8000/8000 [==============================] - 0s 60us/sample - loss: 0.6351 - accuracy: 0.6480 - val_loss: 0.7293 - val_accuracy: 0.4920\n",
            "Epoch 7/20\n",
            "8000/8000 [==============================] - 1s 65us/sample - loss: 0.6198 - accuracy: 0.6653 - val_loss: 0.7365 - val_accuracy: 0.4995\n",
            "Epoch 8/20\n",
            "8000/8000 [==============================] - 1s 65us/sample - loss: 0.6039 - accuracy: 0.6881 - val_loss: 0.7464 - val_accuracy: 0.4955\n",
            "Epoch 9/20\n",
            "8000/8000 [==============================] - 0s 61us/sample - loss: 0.5883 - accuracy: 0.6973 - val_loss: 0.7578 - val_accuracy: 0.4835\n",
            "Epoch 10/20\n",
            "8000/8000 [==============================] - 1s 63us/sample - loss: 0.5725 - accuracy: 0.7114 - val_loss: 0.7719 - val_accuracy: 0.4930\n",
            "Epoch 11/20\n",
            "8000/8000 [==============================] - 0s 61us/sample - loss: 0.5564 - accuracy: 0.7272 - val_loss: 0.7840 - val_accuracy: 0.4790\n",
            "Epoch 12/20\n",
            "8000/8000 [==============================] - 1s 63us/sample - loss: 0.5412 - accuracy: 0.7385 - val_loss: 0.7998 - val_accuracy: 0.4860\n",
            "Epoch 13/20\n",
            "8000/8000 [==============================] - 0s 60us/sample - loss: 0.5265 - accuracy: 0.7491 - val_loss: 0.8163 - val_accuracy: 0.4835\n",
            "Epoch 14/20\n",
            "8000/8000 [==============================] - 1s 63us/sample - loss: 0.5109 - accuracy: 0.7628 - val_loss: 0.8347 - val_accuracy: 0.4910\n",
            "Epoch 15/20\n",
            "8000/8000 [==============================] - 0s 59us/sample - loss: 0.4988 - accuracy: 0.7654 - val_loss: 0.8478 - val_accuracy: 0.4930\n",
            "Epoch 16/20\n",
            "8000/8000 [==============================] - 0s 62us/sample - loss: 0.4855 - accuracy: 0.7764 - val_loss: 0.8653 - val_accuracy: 0.4925\n",
            "Epoch 17/20\n",
            "8000/8000 [==============================] - 0s 62us/sample - loss: 0.4733 - accuracy: 0.7850 - val_loss: 0.8840 - val_accuracy: 0.4905\n",
            "Epoch 18/20\n",
            "8000/8000 [==============================] - 1s 63us/sample - loss: 0.4602 - accuracy: 0.7941 - val_loss: 0.9127 - val_accuracy: 0.4890\n",
            "Epoch 19/20\n",
            "8000/8000 [==============================] - 1s 64us/sample - loss: 0.4500 - accuracy: 0.8024 - val_loss: 0.9261 - val_accuracy: 0.4850\n",
            "Epoch 20/20\n",
            "8000/8000 [==============================] - 0s 62us/sample - loss: 0.4392 - accuracy: 0.8061 - val_loss: 0.9528 - val_accuracy: 0.4890\n"
          ],
          "name": "stdout"
        }
      ]
    },
    {
      "cell_type": "code",
      "metadata": {
        "id": "b1xtUueg0Tr9"
      },
      "source": [
        "test_data = np.random.randn(5, 150)\n",
        "test_labels = np.random.randint(2, size=(5, 1))"
      ],
      "execution_count": null,
      "outputs": []
    },
    {
      "cell_type": "code",
      "metadata": {
        "id": "MIODWVx90nDf",
        "outputId": "928a5e30-0722-4154-842f-cd7bf4ed9af3",
        "colab": {
          "base_uri": "https://localhost:8080/",
          "height": 103
        }
      },
      "source": [
        "model.predict(test_data)"
      ],
      "execution_count": null,
      "outputs": [
        {
          "output_type": "execute_result",
          "data": {
            "text/plain": [
              "array([[0.7386832 ],\n",
              "       [0.29738083],\n",
              "       [0.14625075],\n",
              "       [0.61528796],\n",
              "       [0.35780835]], dtype=float32)"
            ]
          },
          "metadata": {
            "tags": []
          },
          "execution_count": 26
        }
      ]
    },
    {
      "cell_type": "code",
      "metadata": {
        "id": "Pkv50Web0usG",
        "outputId": "822a2b61-f76b-4cdc-f5c9-50f08dd3f0a6",
        "colab": {
          "base_uri": "https://localhost:8080/",
          "height": 103
        }
      },
      "source": [
        "model.predict_proba(test_data)"
      ],
      "execution_count": null,
      "outputs": [
        {
          "output_type": "execute_result",
          "data": {
            "text/plain": [
              "array([[0.7386832 ],\n",
              "       [0.29738083],\n",
              "       [0.14625075],\n",
              "       [0.61528796],\n",
              "       [0.35780835]], dtype=float32)"
            ]
          },
          "metadata": {
            "tags": []
          },
          "execution_count": 28
        }
      ]
    },
    {
      "cell_type": "code",
      "metadata": {
        "id": "c142k6Ev14k5",
        "outputId": "2f3f67ce-8bc1-46b6-cbfe-656e86f6b3a6",
        "colab": {
          "base_uri": "https://localhost:8080/",
          "height": 103
        }
      },
      "source": [
        "model.predict_classes(test_data)"
      ],
      "execution_count": null,
      "outputs": [
        {
          "output_type": "execute_result",
          "data": {
            "text/plain": [
              "array([[1],\n",
              "       [0],\n",
              "       [0],\n",
              "       [1],\n",
              "       [0]], dtype=int32)"
            ]
          },
          "metadata": {
            "tags": []
          },
          "execution_count": 29
        }
      ]
    },
    {
      "cell_type": "markdown",
      "metadata": {
        "id": "AZymszuI28k-"
      },
      "source": [
        "### <a name='a5'></a> Przykład - klasyfikacja wieloklasowa"
      ]
    },
    {
      "cell_type": "code",
      "metadata": {
        "id": "tWIc_gVG2-_L"
      },
      "source": [
        "data = np.random.random((10000, 150))\n",
        "labels = np.random.randint(10, size=(10000, 1))"
      ],
      "execution_count": null,
      "outputs": []
    },
    {
      "cell_type": "code",
      "metadata": {
        "id": "fnKrv8Mk3HSs",
        "outputId": "d8add20b-e5f0-4a4a-9229-47c6c1e83238",
        "colab": {
          "base_uri": "https://localhost:8080/",
          "height": 51
        }
      },
      "source": [
        "print(data.shape)\n",
        "print(labels.shape)"
      ],
      "execution_count": null,
      "outputs": [
        {
          "output_type": "stream",
          "text": [
            "(10000, 150)\n",
            "(10000, 1)\n"
          ],
          "name": "stdout"
        }
      ]
    },
    {
      "cell_type": "code",
      "metadata": {
        "id": "q92xaMuj5Ncx",
        "outputId": "e713543d-0e00-41e5-bcbe-cd55cc2aa36d",
        "colab": {
          "base_uri": "https://localhost:8080/",
          "height": 188
        }
      },
      "source": [
        "labels[:10]"
      ],
      "execution_count": null,
      "outputs": [
        {
          "output_type": "execute_result",
          "data": {
            "text/plain": [
              "array([[2],\n",
              "       [6],\n",
              "       [8],\n",
              "       [3],\n",
              "       [0],\n",
              "       [3],\n",
              "       [9],\n",
              "       [6],\n",
              "       [7],\n",
              "       [0]])"
            ]
          },
          "metadata": {
            "tags": []
          },
          "execution_count": 32
        }
      ]
    },
    {
      "cell_type": "code",
      "metadata": {
        "id": "llauNV3D3OFK",
        "outputId": "e9465a7a-4dd7-4b59-8339-507c4f850025",
        "colab": {
          "base_uri": "https://localhost:8080/",
          "height": 137
        }
      },
      "source": [
        "from tensorflow.keras.utils import to_categorical\n",
        "labels = to_categorical(labels, num_classes=10)\n",
        "labels"
      ],
      "execution_count": null,
      "outputs": [
        {
          "output_type": "execute_result",
          "data": {
            "text/plain": [
              "array([[0., 0., 1., ..., 0., 0., 0.],\n",
              "       [0., 0., 0., ..., 0., 0., 0.],\n",
              "       [0., 0., 0., ..., 0., 1., 0.],\n",
              "       ...,\n",
              "       [0., 0., 0., ..., 1., 0., 0.],\n",
              "       [0., 0., 0., ..., 1., 0., 0.],\n",
              "       [0., 0., 0., ..., 0., 0., 0.]], dtype=float32)"
            ]
          },
          "metadata": {
            "tags": []
          },
          "execution_count": 33
        }
      ]
    },
    {
      "cell_type": "code",
      "metadata": {
        "id": "vORrZXRz7HUp",
        "outputId": "b2fd25a1-8808-4654-a2ca-9c02c80a8a26",
        "colab": {
          "base_uri": "https://localhost:8080/",
          "height": 34
        }
      },
      "source": [
        "labels[1]"
      ],
      "execution_count": null,
      "outputs": [
        {
          "output_type": "execute_result",
          "data": {
            "text/plain": [
              "array([0., 0., 0., 0., 0., 0., 1., 0., 0., 0.], dtype=float32)"
            ]
          },
          "metadata": {
            "tags": []
          },
          "execution_count": 34
        }
      ]
    },
    {
      "cell_type": "code",
      "metadata": {
        "id": "k03Mdkup5yZ1",
        "outputId": "2d50e5fd-9ec6-44d7-ed36-efe3bb4f4dff",
        "colab": {
          "base_uri": "https://localhost:8080/",
          "height": 1000
        }
      },
      "source": [
        "model = Sequential()\n",
        "model.add(Dense(units=32, activation='relu', input_shape=(150,)))\n",
        "model.add(Dense(units=10, activation='softmax'))\n",
        "\n",
        "model.compile(optimizer='rmsprop',\n",
        "              loss='categorical_crossentropy',\n",
        "              metrics=['accuracy'])\n",
        "\n",
        "model.fit(data, labels, batch_size=32, epochs=30, validation_split=0.2)"
      ],
      "execution_count": null,
      "outputs": [
        {
          "output_type": "stream",
          "text": [
            "Train on 8000 samples, validate on 2000 samples\n",
            "Epoch 1/30\n",
            "8000/8000 [==============================] - 1s 140us/sample - loss: 2.3235 - accuracy: 0.0980 - val_loss: 2.3153 - val_accuracy: 0.0985\n",
            "Epoch 2/30\n",
            "8000/8000 [==============================] - 0s 60us/sample - loss: 2.3052 - accuracy: 0.1047 - val_loss: 2.3040 - val_accuracy: 0.0995\n",
            "Epoch 3/30\n",
            "8000/8000 [==============================] - 1s 63us/sample - loss: 2.3031 - accuracy: 0.1009 - val_loss: 2.3104 - val_accuracy: 0.1090\n",
            "Epoch 4/30\n",
            "8000/8000 [==============================] - 1s 63us/sample - loss: 2.3016 - accuracy: 0.1039 - val_loss: 2.3061 - val_accuracy: 0.1065\n",
            "Epoch 5/30\n",
            "8000/8000 [==============================] - 0s 60us/sample - loss: 2.3005 - accuracy: 0.1155 - val_loss: 2.3084 - val_accuracy: 0.0990\n",
            "Epoch 6/30\n",
            "8000/8000 [==============================] - 0s 61us/sample - loss: 2.2979 - accuracy: 0.1119 - val_loss: 2.3134 - val_accuracy: 0.0985\n",
            "Epoch 7/30\n",
            "8000/8000 [==============================] - 0s 62us/sample - loss: 2.2950 - accuracy: 0.1156 - val_loss: 2.3165 - val_accuracy: 0.0950\n",
            "Epoch 8/30\n",
            "8000/8000 [==============================] - 0s 60us/sample - loss: 2.2922 - accuracy: 0.1258 - val_loss: 2.3137 - val_accuracy: 0.1005\n",
            "Epoch 9/30\n",
            "8000/8000 [==============================] - 0s 61us/sample - loss: 2.2882 - accuracy: 0.1320 - val_loss: 2.3181 - val_accuracy: 0.0985\n",
            "Epoch 10/30\n",
            "8000/8000 [==============================] - 0s 60us/sample - loss: 2.2845 - accuracy: 0.1279 - val_loss: 2.3196 - val_accuracy: 0.0945\n",
            "Epoch 11/30\n",
            "8000/8000 [==============================] - 0s 61us/sample - loss: 2.2801 - accuracy: 0.1356 - val_loss: 2.3164 - val_accuracy: 0.1100\n",
            "Epoch 12/30\n",
            "8000/8000 [==============================] - 1s 63us/sample - loss: 2.2736 - accuracy: 0.1404 - val_loss: 2.3211 - val_accuracy: 0.0890\n",
            "Epoch 13/30\n",
            "8000/8000 [==============================] - 0s 61us/sample - loss: 2.2715 - accuracy: 0.1374 - val_loss: 2.3245 - val_accuracy: 0.0995\n",
            "Epoch 14/30\n",
            "8000/8000 [==============================] - 0s 62us/sample - loss: 2.2660 - accuracy: 0.1415 - val_loss: 2.3243 - val_accuracy: 0.1095\n",
            "Epoch 15/30\n",
            "8000/8000 [==============================] - 0s 62us/sample - loss: 2.2622 - accuracy: 0.1519 - val_loss: 2.3332 - val_accuracy: 0.1000\n",
            "Epoch 16/30\n",
            "8000/8000 [==============================] - 1s 63us/sample - loss: 2.2562 - accuracy: 0.1530 - val_loss: 2.3441 - val_accuracy: 0.0975\n",
            "Epoch 17/30\n",
            "8000/8000 [==============================] - 1s 63us/sample - loss: 2.2530 - accuracy: 0.1558 - val_loss: 2.3386 - val_accuracy: 0.0975\n",
            "Epoch 18/30\n",
            "8000/8000 [==============================] - 0s 61us/sample - loss: 2.2470 - accuracy: 0.1651 - val_loss: 2.3428 - val_accuracy: 0.0925\n",
            "Epoch 19/30\n",
            "8000/8000 [==============================] - 0s 62us/sample - loss: 2.2416 - accuracy: 0.1671 - val_loss: 2.3507 - val_accuracy: 0.1000\n",
            "Epoch 20/30\n",
            "8000/8000 [==============================] - 0s 62us/sample - loss: 2.2376 - accuracy: 0.1663 - val_loss: 2.3554 - val_accuracy: 0.1000\n",
            "Epoch 21/30\n",
            "8000/8000 [==============================] - 0s 61us/sample - loss: 2.2336 - accuracy: 0.1643 - val_loss: 2.3525 - val_accuracy: 0.0990\n",
            "Epoch 22/30\n",
            "8000/8000 [==============================] - 1s 63us/sample - loss: 2.2290 - accuracy: 0.1715 - val_loss: 2.3526 - val_accuracy: 0.0960\n",
            "Epoch 23/30\n",
            "8000/8000 [==============================] - 0s 62us/sample - loss: 2.2248 - accuracy: 0.1743 - val_loss: 2.3489 - val_accuracy: 0.0990\n",
            "Epoch 24/30\n",
            "8000/8000 [==============================] - 0s 62us/sample - loss: 2.2202 - accuracy: 0.1706 - val_loss: 2.3698 - val_accuracy: 0.1010\n",
            "Epoch 25/30\n",
            "8000/8000 [==============================] - 0s 61us/sample - loss: 2.2162 - accuracy: 0.1800 - val_loss: 2.3739 - val_accuracy: 0.0995\n",
            "Epoch 26/30\n",
            "8000/8000 [==============================] - 0s 60us/sample - loss: 2.2132 - accuracy: 0.1782 - val_loss: 2.3802 - val_accuracy: 0.1010\n",
            "Epoch 27/30\n",
            "8000/8000 [==============================] - 0s 61us/sample - loss: 2.2082 - accuracy: 0.1850 - val_loss: 2.3677 - val_accuracy: 0.1050\n",
            "Epoch 28/30\n",
            "8000/8000 [==============================] - 1s 65us/sample - loss: 2.2045 - accuracy: 0.1784 - val_loss: 2.3784 - val_accuracy: 0.1015\n",
            "Epoch 29/30\n",
            "8000/8000 [==============================] - 0s 60us/sample - loss: 2.2020 - accuracy: 0.1840 - val_loss: 2.3776 - val_accuracy: 0.1060\n",
            "Epoch 30/30\n",
            "8000/8000 [==============================] - 1s 65us/sample - loss: 2.1989 - accuracy: 0.1844 - val_loss: 2.3795 - val_accuracy: 0.0955\n"
          ],
          "name": "stdout"
        },
        {
          "output_type": "execute_result",
          "data": {
            "text/plain": [
              "<tensorflow.python.keras.callbacks.History at 0x7f5f2552a860>"
            ]
          },
          "metadata": {
            "tags": []
          },
          "execution_count": 35
        }
      ]
    },
    {
      "cell_type": "code",
      "metadata": {
        "id": "apTq9u_O63vu",
        "outputId": "4540cbba-fd16-48a9-a085-f693dd5533a6",
        "colab": {
          "base_uri": "https://localhost:8080/",
          "height": 377
        }
      },
      "source": [
        "test_data = np.random.random((10, 150))\n",
        "\n",
        "model.predict(test_data)"
      ],
      "execution_count": null,
      "outputs": [
        {
          "output_type": "execute_result",
          "data": {
            "text/plain": [
              "array([[0.09911948, 0.11620636, 0.07320527, 0.15997937, 0.08313195,\n",
              "        0.11985189, 0.07282171, 0.08499081, 0.09132902, 0.09936419],\n",
              "       [0.10808039, 0.11060798, 0.1585828 , 0.04076305, 0.11867085,\n",
              "        0.11622953, 0.10032436, 0.10682581, 0.06562724, 0.07428803],\n",
              "       [0.0535747 , 0.0826021 , 0.15126106, 0.04798588, 0.03644897,\n",
              "        0.08196826, 0.17952028, 0.07557219, 0.14473361, 0.14633295],\n",
              "       [0.12001421, 0.15575112, 0.13602467, 0.08515704, 0.06826283,\n",
              "        0.06773269, 0.0736742 , 0.08663882, 0.09184736, 0.11489701],\n",
              "       [0.1503428 , 0.14404033, 0.20681618, 0.0435313 , 0.07448085,\n",
              "        0.05074822, 0.06210018, 0.0954838 , 0.08630197, 0.08615443],\n",
              "       [0.09830751, 0.07327876, 0.17003337, 0.14070372, 0.07893839,\n",
              "        0.0776796 , 0.12669246, 0.09419221, 0.07801841, 0.06215557],\n",
              "       [0.05894386, 0.06890954, 0.10082155, 0.08828751, 0.06637203,\n",
              "        0.16312268, 0.15596974, 0.08681998, 0.09833211, 0.11242106],\n",
              "       [0.07287443, 0.06215156, 0.24240687, 0.07041189, 0.11725722,\n",
              "        0.04994961, 0.03076619, 0.15581624, 0.13464977, 0.06371618],\n",
              "       [0.13002905, 0.03985569, 0.11993719, 0.06731825, 0.1865918 ,\n",
              "        0.11527416, 0.11231703, 0.05328901, 0.06334557, 0.11204223],\n",
              "       [0.053052  , 0.06633372, 0.2060327 , 0.08398049, 0.07066964,\n",
              "        0.09882291, 0.08780937, 0.07752123, 0.19232354, 0.06345441]],\n",
              "      dtype=float32)"
            ]
          },
          "metadata": {
            "tags": []
          },
          "execution_count": 37
        }
      ]
    },
    {
      "cell_type": "code",
      "metadata": {
        "id": "Pd6vGftg8SHk",
        "outputId": "ff87d4af-6021-40fa-c8d6-bdb3e13165da",
        "colab": {
          "base_uri": "https://localhost:8080/",
          "height": 34
        }
      },
      "source": [
        "model.predict_classes(test_data)"
      ],
      "execution_count": null,
      "outputs": [
        {
          "output_type": "execute_result",
          "data": {
            "text/plain": [
              "array([3, 2, 6, 1, 2, 2, 5, 2, 4, 2])"
            ]
          },
          "metadata": {
            "tags": []
          },
          "execution_count": 38
        }
      ]
    },
    {
      "cell_type": "markdown",
      "metadata": {
        "id": "FZuyR0UW8fP2"
      },
      "source": [
        "### <a name='a6'></a> Przykład - regresja"
      ]
    },
    {
      "cell_type": "code",
      "metadata": {
        "id": "Uj04-RVU8WNh"
      },
      "source": [
        "data = np.random.random((10000, 150))\n",
        "labels = 50 * np.random.random(10000)"
      ],
      "execution_count": null,
      "outputs": []
    },
    {
      "cell_type": "code",
      "metadata": {
        "id": "G9T_X5kr8qht",
        "outputId": "f39682d8-5517-4f13-c96d-d578847c2485",
        "colab": {
          "base_uri": "https://localhost:8080/",
          "height": 51
        }
      },
      "source": [
        "labels[:10]"
      ],
      "execution_count": null,
      "outputs": [
        {
          "output_type": "execute_result",
          "data": {
            "text/plain": [
              "array([ 2.76589765, 26.25951681, 42.46470588, 33.45842006,  6.10047945,\n",
              "       42.16472461,  0.06071142,  9.63306066,  7.97318495, 49.39214105])"
            ]
          },
          "metadata": {
            "tags": []
          },
          "execution_count": 40
        }
      ]
    },
    {
      "cell_type": "code",
      "metadata": {
        "id": "M3MEGPvy8rqz",
        "outputId": "bbadd756-3d6a-497d-aacf-e20897f285f5",
        "colab": {
          "base_uri": "https://localhost:8080/",
          "height": 1000
        }
      },
      "source": [
        "model = Sequential()\n",
        "model.add(Dense(units=32, activation='relu', input_shape=(150,)))\n",
        "model.add(Dense(units=1))\n",
        "\n",
        "model.compile(optimizer='rmsprop',\n",
        "              loss='mse')\n",
        "\n",
        "model.fit(data, labels, epochs=30, batch_size=32, validation_split=0.2)"
      ],
      "execution_count": null,
      "outputs": [
        {
          "output_type": "stream",
          "text": [
            "Train on 8000 samples, validate on 2000 samples\n",
            "Epoch 1/30\n",
            "8000/8000 [==============================] - 1s 99us/sample - loss: 269.9293 - val_loss: 207.3698\n",
            "Epoch 2/30\n",
            "8000/8000 [==============================] - 0s 60us/sample - loss: 208.6766 - val_loss: 207.3182\n",
            "Epoch 3/30\n",
            "8000/8000 [==============================] - 0s 57us/sample - loss: 208.1491 - val_loss: 208.2676\n",
            "Epoch 4/30\n",
            "8000/8000 [==============================] - 0s 58us/sample - loss: 207.8588 - val_loss: 207.4424\n",
            "Epoch 5/30\n",
            "8000/8000 [==============================] - 0s 58us/sample - loss: 207.5430 - val_loss: 207.8541\n",
            "Epoch 6/30\n",
            "8000/8000 [==============================] - 0s 58us/sample - loss: 207.2514 - val_loss: 209.6800\n",
            "Epoch 7/30\n",
            "8000/8000 [==============================] - 0s 60us/sample - loss: 206.8425 - val_loss: 208.7884\n",
            "Epoch 8/30\n",
            "8000/8000 [==============================] - 0s 59us/sample - loss: 206.7675 - val_loss: 207.5888\n",
            "Epoch 9/30\n",
            "8000/8000 [==============================] - 0s 58us/sample - loss: 206.4104 - val_loss: 207.9753\n",
            "Epoch 10/30\n",
            "8000/8000 [==============================] - 0s 61us/sample - loss: 206.3592 - val_loss: 207.9862\n",
            "Epoch 11/30\n",
            "8000/8000 [==============================] - 0s 59us/sample - loss: 206.1227 - val_loss: 208.0466\n",
            "Epoch 12/30\n",
            "8000/8000 [==============================] - 0s 58us/sample - loss: 205.7926 - val_loss: 208.4416\n",
            "Epoch 13/30\n",
            "8000/8000 [==============================] - 0s 57us/sample - loss: 205.6303 - val_loss: 208.2132\n",
            "Epoch 14/30\n",
            "8000/8000 [==============================] - 0s 59us/sample - loss: 205.4397 - val_loss: 208.4379\n",
            "Epoch 15/30\n",
            "8000/8000 [==============================] - 0s 60us/sample - loss: 205.1755 - val_loss: 210.1211\n",
            "Epoch 16/30\n",
            "8000/8000 [==============================] - 0s 59us/sample - loss: 205.1160 - val_loss: 208.3944\n",
            "Epoch 17/30\n",
            "8000/8000 [==============================] - 0s 61us/sample - loss: 205.1509 - val_loss: 208.6651\n",
            "Epoch 18/30\n",
            "8000/8000 [==============================] - 0s 58us/sample - loss: 204.8217 - val_loss: 209.0505\n",
            "Epoch 19/30\n",
            "8000/8000 [==============================] - 0s 58us/sample - loss: 204.5281 - val_loss: 209.9914\n",
            "Epoch 20/30\n",
            "8000/8000 [==============================] - 0s 60us/sample - loss: 204.4854 - val_loss: 209.7301\n",
            "Epoch 21/30\n",
            "8000/8000 [==============================] - 0s 59us/sample - loss: 204.3663 - val_loss: 210.4883\n",
            "Epoch 22/30\n",
            "8000/8000 [==============================] - 0s 58us/sample - loss: 204.2815 - val_loss: 209.3196\n",
            "Epoch 23/30\n",
            "8000/8000 [==============================] - 0s 58us/sample - loss: 204.0544 - val_loss: 209.3692\n",
            "Epoch 24/30\n",
            "8000/8000 [==============================] - 0s 60us/sample - loss: 203.5805 - val_loss: 210.1257\n",
            "Epoch 25/30\n",
            "8000/8000 [==============================] - 0s 57us/sample - loss: 203.6607 - val_loss: 210.8726\n",
            "Epoch 26/30\n",
            "8000/8000 [==============================] - 0s 57us/sample - loss: 203.3623 - val_loss: 209.7494\n",
            "Epoch 27/30\n",
            "8000/8000 [==============================] - 0s 59us/sample - loss: 203.5421 - val_loss: 209.9843\n",
            "Epoch 28/30\n",
            "8000/8000 [==============================] - 0s 58us/sample - loss: 202.7385 - val_loss: 209.9429\n",
            "Epoch 29/30\n",
            "8000/8000 [==============================] - 0s 58us/sample - loss: 202.7113 - val_loss: 211.0749\n",
            "Epoch 30/30\n",
            "8000/8000 [==============================] - 0s 60us/sample - loss: 202.7197 - val_loss: 210.5677\n"
          ],
          "name": "stdout"
        },
        {
          "output_type": "execute_result",
          "data": {
            "text/plain": [
              "<tensorflow.python.keras.callbacks.History at 0x7f5f27ba9d30>"
            ]
          },
          "metadata": {
            "tags": []
          },
          "execution_count": 41
        }
      ]
    },
    {
      "cell_type": "code",
      "metadata": {
        "id": "jLUGCiun-ePp",
        "outputId": "434d299a-7276-4148-8d0f-dc4da575d496",
        "colab": {
          "base_uri": "https://localhost:8080/",
          "height": 414
        }
      },
      "source": [
        "model = Sequential()\n",
        "model.add(Dense(units=32, activation='relu', input_shape=(150,)))\n",
        "model.add(Dense(units=1))\n",
        "\n",
        "model.compile(optimizer='rmsprop',\n",
        "              loss='mae',\n",
        "              metrics=['mse'])\n",
        "\n",
        "model.fit(data, labels, epochs=10, batch_size=32, validation_split=0.2)"
      ],
      "execution_count": null,
      "outputs": [
        {
          "output_type": "stream",
          "text": [
            "Train on 8000 samples, validate on 2000 samples\n",
            "Epoch 1/10\n",
            "8000/8000 [==============================] - 1s 107us/sample - loss: 13.3688 - mse: 250.6315 - val_loss: 12.4057 - val_mse: 207.8904\n",
            "Epoch 2/10\n",
            "8000/8000 [==============================] - 0s 58us/sample - loss: 12.4745 - mse: 209.1429 - val_loss: 12.4120 - val_mse: 208.6593\n",
            "Epoch 3/10\n",
            "8000/8000 [==============================] - 1s 64us/sample - loss: 12.4606 - mse: 208.5854 - val_loss: 12.3944 - val_mse: 207.4827\n",
            "Epoch 4/10\n",
            "8000/8000 [==============================] - 0s 58us/sample - loss: 12.4351 - mse: 208.3050 - val_loss: 12.4262 - val_mse: 209.8297\n",
            "Epoch 5/10\n",
            "8000/8000 [==============================] - 0s 58us/sample - loss: 12.4279 - mse: 207.8135 - val_loss: 12.4113 - val_mse: 208.1427\n",
            "Epoch 6/10\n",
            "8000/8000 [==============================] - 0s 59us/sample - loss: 12.4111 - mse: 207.7288 - val_loss: 12.4030 - val_mse: 207.9031\n",
            "Epoch 7/10\n",
            "8000/8000 [==============================] - 0s 62us/sample - loss: 12.3957 - mse: 207.2972 - val_loss: 12.4295 - val_mse: 210.2809\n",
            "Epoch 8/10\n",
            "8000/8000 [==============================] - 0s 59us/sample - loss: 12.3818 - mse: 206.7917 - val_loss: 12.4191 - val_mse: 208.5285\n",
            "Epoch 9/10\n",
            "8000/8000 [==============================] - 1s 63us/sample - loss: 12.3688 - mse: 206.9138 - val_loss: 12.4479 - val_mse: 209.5332\n",
            "Epoch 10/10\n",
            "8000/8000 [==============================] - 0s 60us/sample - loss: 12.3597 - mse: 206.8972 - val_loss: 12.4155 - val_mse: 209.1364\n"
          ],
          "name": "stdout"
        },
        {
          "output_type": "execute_result",
          "data": {
            "text/plain": [
              "<tensorflow.python.keras.callbacks.History at 0x7f5f27625668>"
            ]
          },
          "metadata": {
            "tags": []
          },
          "execution_count": 42
        }
      ]
    },
    {
      "cell_type": "code",
      "metadata": {
        "id": "0T9od2mo9KAF",
        "outputId": "04bdd71b-5d66-4f9e-95a9-c362d1d27493",
        "colab": {
          "base_uri": "https://localhost:8080/",
          "height": 188
        }
      },
      "source": [
        "test_data = np.random.random((10, 150))\n",
        "\n",
        "model.predict(test_data)"
      ],
      "execution_count": null,
      "outputs": [
        {
          "output_type": "execute_result",
          "data": {
            "text/plain": [
              "array([[25.318836],\n",
              "       [25.124805],\n",
              "       [26.249212],\n",
              "       [26.726828],\n",
              "       [24.240023],\n",
              "       [26.99018 ],\n",
              "       [22.903202],\n",
              "       [25.071842],\n",
              "       [22.852095],\n",
              "       [25.543777]], dtype=float32)"
            ]
          },
          "metadata": {
            "tags": []
          },
          "execution_count": 44
        }
      ]
    },
    {
      "cell_type": "code",
      "metadata": {
        "id": "L_wsrqrb5goJ"
      },
      "source": [],
      "execution_count": null,
      "outputs": []
    }
  ]
}